{
 "cells": [
  {
   "cell_type": "code",
   "execution_count": 22,
   "id": "f0c81f88",
   "metadata": {},
   "outputs": [
    {
     "name": "stdout",
     "output_type": "stream",
     "text": [
      "5\n",
      "55\n",
      "6765\n",
      "12586269025\n"
     ]
    }
   ],
   "source": [
    "\"\"\"1. In mathematics, the Fibonacci numbers, commonly denoted Fn, form a sequence, called the Fibonacci sequence, such that\n",
    "each number is the sum of the two preceding ones, starting from 0 and 1:\"\"\"\n",
    "def fib_fast(n):\n",
    "    l=[0,1]\n",
    "    a = 0\n",
    "    b = 1\n",
    "    if n == 1:\n",
    "        return 0\n",
    "    else:\n",
    "        for i in range(2,n+1):\n",
    "            c = a + b\n",
    "            a,b = b,c\n",
    "            l.append(c)\n",
    "    return l[n]\n",
    "print(fib_fast(5))\n",
    "print(fib_fast(10))\n",
    "print(fib_fast(20))\n",
    "print(fib_fast(50))"
   ]
  },
  {
   "cell_type": "code",
   "execution_count": 35,
   "id": "ae24aa1a",
   "metadata": {},
   "outputs": [
    {
     "name": "stdout",
     "output_type": "stream",
     "text": [
      "68 65 6c 6c 6f 20 77 6f 72 6c 64\n",
      "4d 61 72 74 79 20 50 6f 70 70 69 6e 73 6f 6e\n",
      "42 69 67 20 42 6f 69\n"
     ]
    }
   ],
   "source": [
    "\"\"\"2. Create a function that takes a strings characters as ASCII and returns each characters hexadecimal value as a string.\"\"\"\n",
    "def convert_to_hex(s):\n",
    "    hexa=\"\"\n",
    "    for i in s:\n",
    "        c=ord(i)\n",
    "        part = hex(c).lstrip(\"0x\").rstrip(\"L\")\n",
    "        hexa += \" \"+part\n",
    "    return hexa.lstrip(\" \")\n",
    "print(convert_to_hex(\"hello world\"))\n",
    "print(convert_to_hex(\"Marty Poppinson\"))\n",
    "print(convert_to_hex(\"Big Boi\"))"
   ]
  },
  {
   "cell_type": "code",
   "execution_count": 36,
   "id": "85174096",
   "metadata": {},
   "outputs": [
    {
     "name": "stdout",
     "output_type": "stream",
     "text": [
      "abcd\n",
      "Where did my vowels go?\n",
      "UPPERCASE\n"
     ]
    }
   ],
   "source": [
    "\"\"\"3. Someone has attempted to censor my strings by replacing every vowel with a *, l*k* th*s. Luckily, I&#39;ve been able \n",
    "to find the vowels that were removed. Given a censored string and a string of the censored vowels, return the original \n",
    "uncensored string.\"\"\"\n",
    "\n",
    "def uncensor(string, vowels):\n",
    "    new = \"\"\n",
    "    counter = 0\n",
    "    for i in range(len(string)):\n",
    "        if string[i] == \"*\":\n",
    "            new += vowels[counter]\n",
    "            counter += 1\n",
    "        else:\n",
    "            new += string[i]\n",
    "    return new\n",
    "print(uncensor(\"abcd\",\"\"))\n",
    "print(uncensor(\"Wh*r* d*d my v*w*ls g*?\", \"eeioeo\"))\n",
    "print(uncensor(\"*PP*RC*S*\", \"UEAE\"))"
   ]
  },
  {
   "cell_type": "code",
   "execution_count": 37,
   "id": "7fea4ec1",
   "metadata": {},
   "outputs": [
    {
     "name": "stdout",
     "output_type": "stream",
     "text": [
      "dns.google\n",
      "ec2-13-251-106-90.ap-southeast-1.compute.amazonaws.com\n",
      "dns.google\n",
      "ec2-23-23-212-126.compute-1.amazonaws.com\n"
     ]
    }
   ],
   "source": [
    "\"\"\"4.Write a function that takes an IP address and returns the domain name using PTR DNS records.\"\"\"\n",
    "import socket\n",
    "def get_domain(ip_address):\n",
    "    result=socket.gethostbyaddr(ip_address)\n",
    "    return list(result)[0]\n",
    "print(get_domain(\"8.8.8.8\"))\n",
    "print(get_domain(\"13.251.106.90\"))\n",
    "print(get_domain(\"8.8.4.4\"))\n",
    "print(get_domain(\"23.23.212.126\"))"
   ]
  },
  {
   "cell_type": "code",
   "execution_count": 38,
   "id": "4a4b2428",
   "metadata": {},
   "outputs": [
    {
     "name": "stdout",
     "output_type": "stream",
     "text": [
      "288\n",
      "34560\n",
      "24883200\n"
     ]
    }
   ],
   "source": [
    "\"\"\"5. Create a function that takes an integer n and returns the factorial of factorials. See below examples for a better \n",
    "understanding:\"\"\"\n",
    "def fact_of_fact(n):\n",
    "    p=1\n",
    "    for j in range(n):\n",
    "        for i in range(1,n+1):\n",
    "            p=p*i \n",
    "        n=n-1    \n",
    "    return p\n",
    "print(fact_of_fact(4))\n",
    "print(fact_of_fact(5))\n",
    "print(fact_of_fact(6))"
   ]
  },
  {
   "cell_type": "code",
   "execution_count": null,
   "id": "de09b8eb",
   "metadata": {},
   "outputs": [],
   "source": []
  }
 ],
 "metadata": {
  "kernelspec": {
   "display_name": "Python 3 (ipykernel)",
   "language": "python",
   "name": "python3"
  },
  "language_info": {
   "codemirror_mode": {
    "name": "ipython",
    "version": 3
   },
   "file_extension": ".py",
   "mimetype": "text/x-python",
   "name": "python",
   "nbconvert_exporter": "python",
   "pygments_lexer": "ipython3",
   "version": "3.9.7"
  }
 },
 "nbformat": 4,
 "nbformat_minor": 5
}

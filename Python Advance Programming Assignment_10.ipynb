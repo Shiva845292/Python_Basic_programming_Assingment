{
 "cells": [
  {
   "cell_type": "code",
   "execution_count": 21,
   "id": "df83bf61",
   "metadata": {},
   "outputs": [
    {
     "name": "stdout",
     "output_type": "stream",
     "text": [
      "####\n",
      "# #\n",
      "# #\n",
      "# #\n",
      "####\n",
      "**********\n",
      "*       *\n",
      "**********\n",
      "invalid\n"
     ]
    }
   ],
   "source": [
    "\"\"\"1. Create a function that takes the width, height and character and returns a picture frame as a 2D list.\"\"\"\n",
    "def get_frame(n,m,S):\n",
    "#     n=2#10#4\n",
    "#     m=5#3#5\n",
    "#     S=\"#\"\n",
    "    if n>2 and m>2:\n",
    "        for i in range(m):\n",
    "            s=\" \"\n",
    "            if i==0 or i==m-1:\n",
    "                print(S*n)\n",
    "            else:\n",
    "                s=s*(n-3)\n",
    "                print(S+s+S)\n",
    "    else:\n",
    "        print(\"invalid\")\n",
    "        \n",
    "get_frame(4, 5, \"#\")\n",
    "get_frame(10, 3, \"*\")\n",
    "get_frame(2, 5, \"0\")"
   ]
  },
  {
   "cell_type": "code",
   "execution_count": 22,
   "id": "d72a5433",
   "metadata": {},
   "outputs": [
    {
     "name": "stdout",
     "output_type": "stream",
     "text": [
      "False\n",
      "True\n",
      "False\n"
     ]
    }
   ],
   "source": [
    "\"\"\"2. Write three functions:\n",
    "1. boolean_and\n",
    "2. boolean_or\n",
    "3. boolean_xor\n",
    "These functions should evaluate a list of True and False values, starting from the leftmost element and evaluating pairwise.\"\"\"\n",
    "def boolean_and(l):\n",
    "    l.append(0)\n",
    "    k=l[0]\n",
    "    for i in range(len(l)):\n",
    "        if i <(len(l)-1):\n",
    "            if k and l[i+1]:\n",
    "                k=True\n",
    "            else:\n",
    "                k=False\n",
    "    return k\n",
    "\n",
    "def boolean_or(l):\n",
    "    l.append(0)\n",
    "    k=l[0]\n",
    "    for i in range(len(l)):\n",
    "        if i <(len(l)-1):\n",
    "            if k or l[i+1]:\n",
    "                k=True\n",
    "            else:\n",
    "                k=False\n",
    "    return k\n",
    "\n",
    "def boolean_xor(l):\n",
    "    l.append(0)\n",
    "    k=l[0]\n",
    "    for i in range(len(l)):\n",
    "        if i <(len(l)-1):\n",
    "            if k == l[i+1]:\n",
    "                k=False\n",
    "            else:\n",
    "                k=True\n",
    "    return k\n",
    "print(boolean_and([True, True, False, True]))\n",
    "print(boolean_or([True, True, False, False]))\n",
    "print(boolean_xor([True, True, False, False]))"
   ]
  },
  {
   "cell_type": "code",
   "execution_count": 23,
   "id": "3438b4ad",
   "metadata": {},
   "outputs": [
    {
     "name": "stdout",
     "output_type": "stream",
     "text": [
      "['#####', '# #', '# #', '# #', '#####']\n"
     ]
    }
   ],
   "source": [
    "\"\"\"3. Create a function that creates a box based on dimension n.\"\"\"\n",
    "def make_box(n):\n",
    "    l=[]\n",
    "    for i in range(n):\n",
    "        if i==0 or i==(n-1):\n",
    "            l.append(\"#\"*n)\n",
    "        else:\n",
    "            l.append(\"# #\")\n",
    "    return l\n",
    "print(make_box(5))"
   ]
  },
  {
   "cell_type": "code",
   "execution_count": 24,
   "id": "196ecad0",
   "metadata": {},
   "outputs": [
    {
     "name": "stdout",
     "output_type": "stream",
     "text": [
      "False\n",
      "True\n",
      "False\n",
      "True\n"
     ]
    }
   ],
   "source": [
    "\"\"\"4. Given a common phrase, return False if any individual word in the phrase contains duplicate letters. Return True \n",
    "otherwise.\"\"\"\n",
    "def no_duplicate_letters(s):\n",
    "    s=s.split()\n",
    "    l=[]\n",
    "    for i in s:\n",
    "        for j in i:\n",
    "            counts=i.count(j)\n",
    "            l.append(counts)\n",
    "    if len(set(l))==1:\n",
    "        return True\n",
    "    else:\n",
    "        return False\n",
    "print(no_duplicate_letters(\"An apple a day keeps the doctor away.\"))\n",
    "print(no_duplicate_letters(\"You can lead a horse to water, but you can't make him drink.\"))\n",
    "print(no_duplicate_letters(\"Look before you leap.\"))\n",
    "print(no_duplicate_letters(\"Fortune favours the bold.\"))"
   ]
  },
  {
   "cell_type": "code",
   "execution_count": 25,
   "id": "be9a177e",
   "metadata": {},
   "outputs": [
    {
     "data": {
      "text/plain": [
       "['California', 'Florida']"
      ]
     },
     "execution_count": 25,
     "metadata": {},
     "output_type": "execute_result"
    }
   ],
   "source": [
    "\"\"\"5. Write a regular expression that will match the states that voted yes to President Trump&#39;s impeachment. \n",
    "You must use RegEx positive lookahead.\"\"\"\n",
    "\n",
    "import re\n",
    "s=\"Texas = no, California = yes, Florida = yes, Michigan = no\"\n",
    "find=re.findall(\"([A-Za-z]+) = yes\",s)\n",
    "find"
   ]
  },
  {
   "cell_type": "code",
   "execution_count": null,
   "id": "febefa7f",
   "metadata": {},
   "outputs": [],
   "source": []
  }
 ],
 "metadata": {
  "kernelspec": {
   "display_name": "Python 3 (ipykernel)",
   "language": "python",
   "name": "python3"
  },
  "language_info": {
   "codemirror_mode": {
    "name": "ipython",
    "version": 3
   },
   "file_extension": ".py",
   "mimetype": "text/x-python",
   "name": "python",
   "nbconvert_exporter": "python",
   "pygments_lexer": "ipython3",
   "version": "3.9.7"
  }
 },
 "nbformat": 4,
 "nbformat_minor": 5
}

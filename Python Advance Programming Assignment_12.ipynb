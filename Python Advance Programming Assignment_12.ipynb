{
 "cells": [
  {
   "cell_type": "code",
   "execution_count": 8,
   "id": "6c025099",
   "metadata": {},
   "outputs": [
    {
     "name": "stdout",
     "output_type": "stream",
     "text": [
      "515\n",
      "1103\n",
      "31499\n"
     ]
    }
   ],
   "source": [
    "\"\"\"1. For this challenge, forget how to add two numbers together. The best explanation on what to do for this function is \n",
    "this meme:\"\"\"\n",
    "def meme_sum(n,m):\n",
    "    n,m=str(n),str(m)\n",
    "    s=\"\"\n",
    "    s1=0\n",
    "    if len(m)<len(n):\n",
    "        n1=len(n)-len(m)\n",
    "        m=(n1*\"0\")+m\n",
    "    else:\n",
    "        n1=len(m)-len(n)\n",
    "        n=(n1*\"0\")+n\n",
    "    for i in range(len(n)):\n",
    "        s1=int(n[i])+int(m[i])\n",
    "        s+=str(s1)\n",
    "    return s\n",
    "print(meme_sum(26, 39))\n",
    "print(meme_sum(122, 81))\n",
    "print(meme_sum(1222, 30277))"
   ]
  },
  {
   "cell_type": "code",
   "execution_count": 6,
   "id": "e50d6869",
   "metadata": {},
   "outputs": [
    {
     "name": "stdout",
     "output_type": "stream",
     "text": [
      "11\n",
      "29\n",
      "13\n"
     ]
    }
   ],
   "source": [
    "\"\"\"2. Given an integer, create a function that returns the next prime. If the number is prime, return the number itself.\"\"\"\n",
    "\n",
    "def next_prime(n):\n",
    "    try:\n",
    "        if n>1:\n",
    "            l=[]\n",
    "            for i in range(n,n*2):\n",
    "                for j in range(2,n):\n",
    "                    if i%j==0:\n",
    "                        break\n",
    "                    else:\n",
    "                        l.append(i)\n",
    "                        break\n",
    "            l1=[]\n",
    "            for i in l:\n",
    "                for num in range(2,i):\n",
    "                    if i%num==0:\n",
    "                        l1.append(i)\n",
    "                        break\n",
    "                    else:\n",
    "                        pass\n",
    "            l=set(l)\n",
    "            li=list(l.symmetric_difference(l1))\n",
    "            return sorted(li)[0]\n",
    "        else:\n",
    "            return -1\n",
    "    except Exception as e:\n",
    "        return (\"error :\",e)\n",
    "    \n",
    "print(next_prime(11))\n",
    "print(next_prime(24))\n",
    "print(next_prime(12))"
   ]
  },
  {
   "cell_type": "code",
   "execution_count": 5,
   "id": "e31f5fc1",
   "metadata": {},
   "outputs": [
    {
     "name": "stdout",
     "output_type": "stream",
     "text": [
      "30\n",
      "15\n",
      "12\n"
     ]
    }
   ],
   "source": [
    "\"\"\"3. If a person traveled up a hill for 18mins at 20mph and then traveled back down the same path at 60mph then their \n",
    "average speed traveled was 30mph. Write a function that returns the average speed traveled given an uphill time, uphill \n",
    "rate and a downhill rate. Uphill time is given in minutes. Return the rate as an integer (mph). No rounding is necessary.\"\"\"\n",
    "\n",
    "def ave_spd(t, up, down):\n",
    "\n",
    "    hr=t/60\n",
    "    downspeed=(hr*up)/down\n",
    "    final=((hr*up)*2)/(downspeed+hr)\n",
    "    return int(final)\n",
    "\n",
    "print(ave_spd(18, 20, 60))\n",
    "print(ave_spd(30, 10, 30))\n",
    "print(ave_spd(30, 8, 24))"
   ]
  },
  {
   "cell_type": "code",
   "execution_count": 10,
   "id": "1b73ea2d",
   "metadata": {},
   "outputs": [
    {
     "name": "stdout",
     "output_type": "stream",
     "text": [
      "3\n",
      "5\n",
      "2\n"
     ]
    }
   ],
   "source": [
    "\"\"\"4. The Kempner Function, applied to a composite number, permits to find the smallest integer greater than zero whose \n",
    "factorial is exactly divided by the number.\"\"\"\n",
    "\n",
    "def kempner(n):\n",
    "    factorial=1\n",
    "    for i in range(1,n + 1):    \n",
    "        factorial = factorial*i \n",
    "        if factorial%n==0:\n",
    "            return i\n",
    "            break\n",
    "            \n",
    "print(kempner(6))\n",
    "print(kempner(10))\n",
    "print(kempner(2))"
   ]
  },
  {
   "cell_type": "code",
   "execution_count": 7,
   "id": "f7b6d855",
   "metadata": {},
   "outputs": [
    {
     "name": "stdout",
     "output_type": "stream",
     "text": [
      "We need 5 boxes\n",
      "Box1 has [2, 1, 2, 5], and 10kgs\n",
      "Box2 has [4, 3], and 7kgs\n",
      "Box3 has [6, 1, 1], and 8kgs\n",
      "Box4 has [9], and 9kgs\n",
      "Box5 has [3, 2], and 5kgs\n"
     ]
    }
   ],
   "source": [
    "\"\"\"5. You work in a factory, and your job is to take items from a conveyor belt and pack them into boxes. Each box can \n",
    "hold a maximum of 10 kgs. Given a list containing the weight (in kg) of each item, how many boxes would you need to pack all of the items?\"\"\"\n",
    "\n",
    "def boxes(q):\n",
    "    l = len(q)\n",
    "    i = 0\n",
    "    a = []\n",
    "    box = []\n",
    "    while l :\n",
    "        if sum(a)  <=  10 :\n",
    "            a.append(q[i])\n",
    "            i = i + 1\n",
    "            l = l - 1 \n",
    "        elif sum(a) > 10:\n",
    "            box.append(a[:-1:])\n",
    "            i = i - 1\n",
    "            l = l + 1\n",
    "            a.clear()\n",
    "    box.append(a)\n",
    "\n",
    "    print(\"We need {} boxes\".format(len(box)))\n",
    "    for i in range(len(box)):\n",
    "        print(\"Box{} has {}, and {}kgs\".format(i+1,box[i],sum(box[i])))\n",
    "\n",
    "boxes([2, 1, 2, 5, 4, 3, 6, 1, 1, 9, 3, 2])"
   ]
  },
  {
   "cell_type": "code",
   "execution_count": null,
   "id": "3642ff78",
   "metadata": {},
   "outputs": [],
   "source": []
  }
 ],
 "metadata": {
  "kernelspec": {
   "display_name": "Python 3 (ipykernel)",
   "language": "python",
   "name": "python3"
  },
  "language_info": {
   "codemirror_mode": {
    "name": "ipython",
    "version": 3
   },
   "file_extension": ".py",
   "mimetype": "text/x-python",
   "name": "python",
   "nbconvert_exporter": "python",
   "pygments_lexer": "ipython3",
   "version": "3.9.7"
  }
 },
 "nbformat": 4,
 "nbformat_minor": 5
}

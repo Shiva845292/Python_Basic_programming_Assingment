{
 "cells": [
  {
   "cell_type": "code",
   "execution_count": 7,
   "id": "ed5d3c6f",
   "metadata": {},
   "outputs": [
    {
     "name": "stdout",
     "output_type": "stream",
     "text": [
      "5\n",
      "3\n",
      "2\n"
     ]
    }
   ],
   "source": [
    "\"\"\"1. Write a function that counts how many concentric layers a rug.\"\"\"\n",
    "\n",
    "def count_layer(l):\n",
    "\n",
    "    c=set(l)\n",
    "    return (len(c))\n",
    "\n",
    "print(count_layers([\n",
    "\"&quot;AAAAAAAAAAA&quot;\",\n",
    "\"&quot;AABBBBBBBAA&quot;\",\n",
    "\"&quot;AABCCCCCBAA&quot;\",\n",
    "\"&quot;AABCAAACBAA&quot;\",\n",
    "\"&quot;AABCADACBAA&quot;\",\n",
    "\"&quot;AABCAAACBAA&quot;\",\n",
    "\"&quot;AABCCCCCBAA&quot;\",\n",
    "\"&quot;AABBBBBBBAA&quot;\",\n",
    "\"&quot;AAAAAAAAAAA&quot;\"\n",
    "]))\n",
    "print(count_layers([\n",
    "\"&quot;AAAAAAAAA&quot;\",\n",
    "\"&quot;ABBBBBBBA&quot;\",\n",
    "\"&quot;ABBAAABBA&quot;\",\n",
    "\"&quot;ABBBBBBBA&quot;\",\n",
    "\"&quot;AAAAAAAAA&quot;\"\n",
    "]))\n",
    "print(count_layers([\n",
    "\"&quot;AAAA&quot;\",\n",
    "\"&quot;ABBA&quot;\",\n",
    "\"&quot;AAAA&quot;\"\n",
    "]))"
   ]
  },
  {
   "cell_type": "code",
   "execution_count": 13,
   "id": "adb7b26b",
   "metadata": {},
   "outputs": [
    {
     "name": "stdout",
     "output_type": "stream",
     "text": [
      "9\n",
      "7\n"
     ]
    }
   ],
   "source": [
    "\"\"\"2. There are many different styles of music and many albums exhibit multiple styles. Create a function that takes a list\n",
    "of musical styles from albums and returns how many styles are unique.\"\"\"\n",
    "def unique_styles(l):\n",
    "    uniq=\"\"\n",
    "    for i in range(len(l)):\n",
    "        uniq+=l[i]+\",\"\n",
    "    s=uniq[:-1]\n",
    "    uniq=s.split(\",\")\n",
    "    final=set(uniq)\n",
    "    return (len(final))\n",
    "\n",
    "print(unique_styles([\"Dub,Dancehall\",\"Industrial,Heavy Metal\",\"Techno,Dubstep\",\"Synth-pop,Euro-Disco\",\"Industrial,Techno,Minimal\"]))\n",
    "print(unique_styles([\"Soul\",\"House,Folk\",\"Trance,Downtempo,Big Beat,House\",\"Deep House\",\"Soul\"]))"
   ]
  },
  {
   "cell_type": "code",
   "execution_count": 15,
   "id": "9f8e1bdc",
   "metadata": {},
   "outputs": [
    {
     "name": "stdout",
     "output_type": "stream",
     "text": [
      "Yes\n",
      "No\n",
      "Yes\n",
      "No\n"
     ]
    }
   ],
   "source": [
    "\"\"\"3. Create a function that finds a target number in a list of prime numbers. Implement a binary search algorithm in your \n",
    "function. The target number will be from 2 through 97. If the target is prime then return yes else return no.\"\"\"\n",
    "\n",
    "def is_prime(primes,n):\n",
    "    l=result=0\n",
    "    l1=len(primes)\n",
    "    for i in range(len(primes)):\n",
    "        mid = (l + l1)//2\n",
    "        if (n == primes[mid]):\n",
    "            result=primes[mid]\n",
    "            break\n",
    "        elif (n > primes[mid]): \n",
    "            l = mid + 1\n",
    "        else:                    \n",
    "            l1 = mid - 1\n",
    "    if result > 0:\n",
    "        return (\"Yes\")\n",
    "    else:\n",
    "        return (\"No\")\n",
    "    \n",
    "primes = [2, 3, 5, 7, 11, 13, 17, 19, 23, 29, 31, 37, 41, 43, 47, 53, 59, 61, 67, 71, 73, 79, 83, 89, 97]\n",
    "print(is_prime(primes, 3))\n",
    "print(is_prime(primes, 4))\n",
    "print(is_prime(primes, 67))\n",
    "print(is_prime(primes, 36))"
   ]
  },
  {
   "cell_type": "code",
   "execution_count": 17,
   "id": "e884996c",
   "metadata": {},
   "outputs": [
    {
     "name": "stdout",
     "output_type": "stream",
     "text": [
      "2\n",
      "3\n",
      "1\n",
      "1\n",
      "3\n"
     ]
    }
   ],
   "source": [
    "\"\"\"4. Create a function that takes in n, a, b and returns the number of positive values raised to the nth power that lie in\n",
    "the range [a, b], inclusive.\"\"\"\n",
    "\n",
    "def power_ranger(n,n1,n2):\n",
    "    n3=count=0\n",
    "    for i in range(n2//2):\n",
    "        n3=i**n\n",
    "        if n3>=n1 and n3<=n2:\n",
    "            count+=1\n",
    "        elif n3>n2:\n",
    "            break\n",
    "    return (count)\n",
    "\n",
    "print(power_ranger(2, 49, 65))\n",
    "print(power_ranger(3, 1, 27))\n",
    "print(power_ranger(10, 1, 5))\n",
    "print(power_ranger(5, 31, 33))\n",
    "print(power_ranger(4, 250, 1300))"
   ]
  },
  {
   "cell_type": "code",
   "execution_count": 19,
   "id": "84bd0e64",
   "metadata": {},
   "outputs": [
    {
     "name": "stdout",
     "output_type": "stream",
     "text": [
      "760833\n",
      "7709823\n",
      "90981\n"
     ]
    }
   ],
   "source": [
    "\"\"\"5. Given a number, return the difference between the maximum and minimum numbers that can be formed when the digits are \n",
    "rearranged.\"\"\"\n",
    "\n",
    "def rearranged_difference(n):\n",
    "    n=sorted(str(n))\n",
    "    n1=\"\"\n",
    "    for i in n:\n",
    "        n1+=i\n",
    "    n2=n1[::-1]\n",
    "    return int(n2)-int(n1)\n",
    "\n",
    "print(rearranged_difference(972882))\n",
    "print(rearranged_difference(3320707))\n",
    "print(rearranged_difference(90010))"
   ]
  },
  {
   "cell_type": "code",
   "execution_count": null,
   "id": "039ad243",
   "metadata": {},
   "outputs": [],
   "source": []
  }
 ],
 "metadata": {
  "kernelspec": {
   "display_name": "Python 3 (ipykernel)",
   "language": "python",
   "name": "python3"
  },
  "language_info": {
   "codemirror_mode": {
    "name": "ipython",
    "version": 3
   },
   "file_extension": ".py",
   "mimetype": "text/x-python",
   "name": "python",
   "nbconvert_exporter": "python",
   "pygments_lexer": "ipython3",
   "version": "3.9.7"
  }
 },
 "nbformat": 4,
 "nbformat_minor": 5
}

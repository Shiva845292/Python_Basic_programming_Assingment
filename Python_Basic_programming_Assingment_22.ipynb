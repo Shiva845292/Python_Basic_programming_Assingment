{
 "cells": [
  {
   "cell_type": "code",
   "execution_count": 1,
   "id": "0496d761",
   "metadata": {},
   "outputs": [
    {
     "name": "stdout",
     "output_type": "stream",
     "text": [
      "first : 1\n",
      "last : 10\n",
      "Number : 3\n",
      "[3, 6, 9]\n"
     ]
    }
   ],
   "source": [
    "\"\"\"1.Create a function that takes three arguments a, b, c and returns the sum of the numbers that are evenly divided by c \n",
    "from the range a, b inclusive.\"\"\"\n",
    "def evenly_divisible(f,l,number):\n",
    "    l=[]\n",
    "    for i in range(first,last):\n",
    "        if i%number==0:\n",
    "            l.append(i)\n",
    "    if len(l)==0:\n",
    "        return f\"It is not divided by {number}\"\n",
    "    else:\n",
    "        return l\n",
    "first=int(input(\"first : \"))\n",
    "last=int(input(\"last : \"))\n",
    "number=int(input(\"Number : \"))\n",
    "re=evenly_divisible(first,last,number)\n",
    "print(re)"
   ]
  },
  {
   "cell_type": "code",
   "execution_count": 25,
   "id": "fee63f9b",
   "metadata": {},
   "outputs": [
    {
     "name": "stdout",
     "output_type": "stream",
     "text": [
      "{True}\n"
     ]
    }
   ],
   "source": [
    "\"\"\"2.Create a function that takes in two lists and returns True if the second list follows the first list by one element, and\n",
    "False otherwise. In other words, determine if the second list is the first list shifted to the right by 1.\"\"\"\n",
    "def simon_says(l,l1):\n",
    "    l.pop(-1)\n",
    "    l1.pop(0)\n",
    "    l2=[]\n",
    "    for i in range(len(l)):\n",
    "        if l[i]==l1[i]:\n",
    "            l2.append(True)\n",
    "        else:\n",
    "            l2.append(False)\n",
    "    print(set(l2))\n",
    "    if len(set(l2))==1:\n",
    "        if l2==True:\n",
    "            return True\n",
    "    else:\n",
    "        return False\n",
    "simon_says([1, 2,3,4], [5, 1,2,3])"
   ]
  },
  {
   "cell_type": "code",
   "execution_count": 11,
   "id": "a25620a2",
   "metadata": {},
   "outputs": [
    {
     "name": "stdout",
     "output_type": "stream",
     "text": [
      "AMS"
     ]
    }
   ],
   "source": [
    "#3.Create a function that takes in a list of names and returns the name of the secret society.\n",
    "def society_name(l):\n",
    "    l1=sorted(l)\n",
    "    for letter in l1:\n",
    "        for i in letter:\n",
    "            print(i,end=\"\")\n",
    "            break\n",
    "society_name([\"Adam\", \"Sarah\", \"Malcolm\"])"
   ]
  },
  {
   "cell_type": "code",
   "execution_count": 22,
   "id": "0bbde067",
   "metadata": {},
   "outputs": [
    {
     "data": {
      "text/plain": [
       "True"
      ]
     },
     "execution_count": 22,
     "metadata": {},
     "output_type": "execute_result"
    }
   ],
   "source": [
    "#4.An isogram is a word that has no duplicate letters. Create a function that takes a string and returns either True or False\n",
    "#depending on whether or not it&#39;s an \"isogram\".\n",
    "import collections\n",
    "def is_isogram(s):\n",
    "    s=s.lower()\n",
    "    l=[]\n",
    "    s1=collections.Counter(s)\n",
    "    for i in s1:        \n",
    "        l.append(s1[i])\n",
    "    if len(set(l))==1:\n",
    "#         print(\"yes\")\n",
    "        return True\n",
    "    else:\n",
    "        return False\n",
    "is_isogram(\"Algorism\")\n"
   ]
  },
  {
   "cell_type": "code",
   "execution_count": 47,
   "id": "13eb1cfa",
   "metadata": {},
   "outputs": [
    {
     "data": {
      "text/plain": [
       "False"
      ]
     },
     "execution_count": 47,
     "metadata": {},
     "output_type": "execute_result"
    }
   ],
   "source": [
    "\"\"\"5.Create a function that takes a string and returns True or False, depending on whether the characters are in order or not.\"\"\"\n",
    "def is_in_order(s):\n",
    "    n = len(s)\n",
    "    for i in range(1, n):\n",
    "        if (s[i] < s[i - 1]) :\n",
    "            return False \n",
    "    return True\n",
    "is_in_order(\"acb\")"
   ]
  },
  {
   "cell_type": "code",
   "execution_count": 45,
   "id": "43c6fd7b",
   "metadata": {},
   "outputs": [
    {
     "data": {
      "text/plain": [
       "True"
      ]
     },
     "execution_count": 45,
     "metadata": {},
     "output_type": "execute_result"
    }
   ],
   "source": [
    "is_in_order(\"xyzz\")"
   ]
  },
  {
   "cell_type": "code",
   "execution_count": null,
   "id": "f1cfada3",
   "metadata": {},
   "outputs": [],
   "source": []
  },
  {
   "cell_type": "code",
   "execution_count": 46,
   "id": "85553ed7",
   "metadata": {},
   "outputs": [
    {
     "data": {
      "text/plain": [
       "True"
      ]
     },
     "execution_count": 46,
     "metadata": {},
     "output_type": "execute_result"
    }
   ],
   "source": [
    "is_in_order(\"1234\")"
   ]
  },
  {
   "cell_type": "code",
   "execution_count": null,
   "id": "02f36f66",
   "metadata": {},
   "outputs": [],
   "source": []
  }
 ],
 "metadata": {
  "kernelspec": {
   "display_name": "Python 3 (ipykernel)",
   "language": "python",
   "name": "python3"
  },
  "language_info": {
   "codemirror_mode": {
    "name": "ipython",
    "version": 3
   },
   "file_extension": ".py",
   "mimetype": "text/x-python",
   "name": "python",
   "nbconvert_exporter": "python",
   "pygments_lexer": "ipython3",
   "version": "3.9.7"
  }
 },
 "nbformat": 4,
 "nbformat_minor": 5
}

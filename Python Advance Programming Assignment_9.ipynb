{
 "cells": [
  {
   "cell_type": "code",
   "execution_count": 3,
   "id": "b6379e23",
   "metadata": {},
   "outputs": [
    {
     "name": "stdout",
     "output_type": "stream",
     "text": [
      "00:15:0\n",
      "00:53:20\n",
      "102:40:18\n"
     ]
    }
   ],
   "source": [
    "\"\"\"1. YouTube offers different playback speed options for users. This allows users to increase or decrease the speed of the\n",
    "video content. Given the actual duration and playback speed of the video, calculate the playback duration of the video.\"\"\"\n",
    "\n",
    "def playback_duration(s,x):\n",
    "\n",
    "    hr,min,sec=s[0:2],s[3:5],s[6:8]\n",
    "    total=(int(hr)*60*60)+(int(min)*60)+int(sec)\n",
    "    spd=total/x\n",
    "    Hr1=spd//(60*60)\n",
    "    if Hr1==0.0:\n",
    "        Hr=\"00\"\n",
    "    else:\n",
    "        Hr=int(Hr1)\n",
    "    Min1=spd-(Hr1*3600)\n",
    "    Min=Min1//60\n",
    "    Sec=Min1-(Min*60)\n",
    "    return (\"{}:{}:{}\".format(Hr,int(Min),int(Sec)))\n",
    "\n",
    "print(playback_duration(\"00:30:00\", 2))\n",
    "print(playback_duration(\"01:20:00\", 1.5))\n",
    "print(playback_duration(\"51:20:09\", 0.5))"
   ]
  },
  {
   "cell_type": "code",
   "execution_count": 5,
   "id": "48aafb3f",
   "metadata": {},
   "outputs": [
    {
     "name": "stdout",
     "output_type": "stream",
     "text": [
      "45\n",
      "2022\n",
      "None\n"
     ]
    }
   ],
   "source": [
    "\"\"\"2. We needs your help to construct a building which will be a pile of n cubes. The cube at the bottom will have a volume\n",
    "of n^3, the cube above will have volume of (n-1)^3 and so on until the top which will have a volume of 1^3. Given the total\n",
    "volume m of the building, can you find the number of cubes n required for the building?\n",
    "In other words, you have to return an integer n such that:\n",
    "n^3 + (n-1)^3 + ... + 1^3 == m\n",
    "Return None if there is no such number.\"\"\"\n",
    "\n",
    "def pile_of_cubes(n1):\n",
    "    n=0\n",
    "    for i in range(n1//len(str(n))):\n",
    "        n+=(i**3)\n",
    "        if n==n1:\n",
    "            return i\n",
    "            break\n",
    "    return None\n",
    "    \n",
    "print(pile_of_cubes(1071225))\n",
    "print(pile_of_cubes(4183059834009))\n",
    "print(pile_of_cubes(16))"
   ]
  },
  {
   "cell_type": "code",
   "execution_count": 7,
   "id": "1d659e33",
   "metadata": {},
   "outputs": [
    {
     "name": "stdout",
     "output_type": "stream",
     "text": [
      "2\n",
      "4\n",
      "0\n",
      "-1\n",
      "1\n"
     ]
    }
   ],
   "source": [
    "\"\"\"3. A fulcrum of a list is an integer such that all elements to the left of it and all elements to the right of it sum to\n",
    "the same value. Write a function that finds the fulcrum of a list.\"\"\"\n",
    "\n",
    "def find_fulcrum(arr) :\n",
    "    n=len(arr)\n",
    "    prefixSum = [0] * n\n",
    "    prefixSum[0] = arr[0]\n",
    "    for i in range(1, n) :\n",
    "        prefixSum[i] = prefixSum[i - 1] + arr[i]\n",
    "#     print(prefixSum)\n",
    "\n",
    "    suffixSum = [0] * n\n",
    "    suffixSum[n - 1] = arr[n - 1]\n",
    "    for i in range(n - 2, -1, -1) :\n",
    "        suffixSum[i] = suffixSum[i + 1] + arr[i]\n",
    "\n",
    "    for i in range(1, n - 1, 1) :\n",
    "#         print(suffixSum[i])\n",
    "        if prefixSum[i] == suffixSum[i] :\n",
    "            return arr[i]\n",
    "         \n",
    "    return -1\n",
    "\n",
    "print(find_fulcrum([3, 1, 5, 2, 4, 6, -1]))\n",
    "print(find_fulcrum([1, 2, 4, 9, 10, -10, -9, 3]))\n",
    "print(find_fulcrum([7, -1, 0, -1, 1, 1, 2, 3]))\n",
    "print(find_fulcrum([8, 8, 8, 8]))\n",
    "print(find_fulcrum([9, 1, 9]))"
   ]
  },
  {
   "cell_type": "code",
   "execution_count": 10,
   "id": "ee414979",
   "metadata": {},
   "outputs": [
    {
     "name": "stdout",
     "output_type": "stream",
     "text": [
      "3\n",
      "4\n",
      "0\n"
     ]
    }
   ],
   "source": [
    "\"\"\"4. Given a list of integers representing the color of each sock, determine how many pairs of socks with matching colors \n",
    "there are. For example, there are 7 socks with colors [1, 2, 1, 2, 1, 3, 2]. There is one pair of color 1 and one of color 2\n",
    "There are three odd socks left, one of each color. The number ofpairs is 2.\n",
    "Create a function that returns an integer representing the number of matching pairs of socks that are available.\"\"\"\n",
    "\n",
    "import collections\n",
    "def sock_merchant(l):\n",
    "    c=collections.Counter(l)\n",
    "    co=0\n",
    "    for i in c:\n",
    "        if c[i]<=3 and c[i]!=1:\n",
    "            co+=1\n",
    "        elif c[i]>=4:\n",
    "            co+=2\n",
    "        else:\n",
    "            pass\n",
    "    return co\n",
    "\n",
    "print(sock_merchant([10, 20, 20, 10, 10, 30, 50, 10, 20]))\n",
    "print(sock_merchant([50, 20, 30, 90, 30, 20, 50, 20, 90]))\n",
    "print(sock_merchant([]))"
   ]
  },
  {
   "cell_type": "code",
   "execution_count": 12,
   "id": "c2e33fd6",
   "metadata": {},
   "outputs": [
    {
     "name": "stdout",
     "output_type": "stream",
     "text": [
      "-23\n",
      "-33\n"
     ]
    }
   ],
   "source": [
    "\"\"\"5. Create a function that takes a string containing integers as well as other characters and return the sum of the \n",
    "negative integers only.\"\"\"\n",
    "\n",
    "import re\n",
    "def negative_sum(s):\n",
    "    find=re.findall(\"(-[0-9]+)\",s)\n",
    "    sum=0\n",
    "    for i in find:\n",
    "        sum+=int(i)\n",
    "    return sum\n",
    "\n",
    "print(negative_sum(\"-12 13%14&-11\"))\n",
    "print(negative_sum(\"22 13%14&-11-22 13 12\"))"
   ]
  },
  {
   "cell_type": "code",
   "execution_count": 6,
   "id": "5ec0e31a",
   "metadata": {},
   "outputs": [
    {
     "name": "stdout",
     "output_type": "stream",
     "text": [
      "2\n",
      "4\n",
      "0\n",
      "-1\n",
      "1\n"
     ]
    }
   ],
   "source": []
  },
  {
   "cell_type": "code",
   "execution_count": null,
   "id": "a9f9e360",
   "metadata": {},
   "outputs": [],
   "source": []
  }
 ],
 "metadata": {
  "kernelspec": {
   "display_name": "Python 3 (ipykernel)",
   "language": "python",
   "name": "python3"
  },
  "language_info": {
   "codemirror_mode": {
    "name": "ipython",
    "version": 3
   },
   "file_extension": ".py",
   "mimetype": "text/x-python",
   "name": "python",
   "nbconvert_exporter": "python",
   "pygments_lexer": "ipython3",
   "version": "3.9.7"
  }
 },
 "nbformat": 4,
 "nbformat_minor": 5
}

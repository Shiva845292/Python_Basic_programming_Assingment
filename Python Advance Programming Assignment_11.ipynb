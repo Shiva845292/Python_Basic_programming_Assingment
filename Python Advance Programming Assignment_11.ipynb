{
 "cells": [
  {
   "cell_type": "code",
   "execution_count": 18,
   "id": "ade6a8dd",
   "metadata": {},
   "outputs": [
    {
     "name": "stdout",
     "output_type": "stream",
     "text": [
      "[3, 7, 11]\n",
      "[1009, 10007]\n",
      "[1, 3, 1091, 1093, 1097, 1009, 1087, 61]\n"
     ]
    }
   ],
   "source": [
    "\"\"\"1. Create a function that takes a list and returns a new list containing only prime numbers.\"\"\"\n",
    "\n",
    "def filter_primes(li):\n",
    "    l=[]\n",
    "    for i in li:\n",
    "        for j in range(2,i):\n",
    "            if (i%j) == 0:\n",
    "                l.append(i)\n",
    "                break\n",
    "            else:\n",
    "                pass\n",
    "    s=set(l)\n",
    "    s1=s.symmetric_difference(li)\n",
    "    return list(s1)\n",
    "\n",
    "print(filter_primes([7, 9, 3, 9, 10, 11, 27]))\n",
    "print(filter_primes([10007, 1009, 1007, 27, 147, 77, 1001, 70]))\n",
    "print(filter_primes([1009, 10, 10, 10, 3, 33, 9, 4, 1, 61, 63, 69, 1087, 1091, 1093,1097]))"
   ]
  },
  {
   "cell_type": "code",
   "execution_count": 4,
   "id": "ca72422f",
   "metadata": {},
   "outputs": [
    {
     "name": "stdout",
     "output_type": "stream",
     "text": [
      "[0, 1, 2, 3, 4, 3, 2, 1, 0]\n",
      "[0, 1, 2, 3, 2, 1, 0]\n",
      "[0, 1, 2, 1, 0]\n",
      "[0]\n"
     ]
    }
   ],
   "source": [
    "\"\"\"2. Once a water balloon pops, is soaks the area around it. The ground gets drier the further away you travel from the \n",
    "balloon.The effect of a water balloon popping can be modeled using a list. Create a function that takes a list which takes \n",
    "the pre-pop state and returns the state after the balloon is popped. The pre-pop state will contain at most a single\n",
    "balloon, whose size is represented by the only non-zero element.\"\"\"\n",
    "\n",
    "def pop(l):\n",
    "    for j in range(0,len(l)):\n",
    "        if l[len(l)//2]<j:\n",
    "            l[j]=((len(l)//2)-(j-1))+((len(l)//2)-1)\n",
    "        elif l[j]==0:\n",
    "            l[j]=j\n",
    "    return l\n",
    "\n",
    "print(pop([0, 0, 0, 0, 4, 0, 0, 0, 0]))\n",
    "print(pop([0, 0, 0, 3, 0, 0, 0]))\n",
    "print(pop([0, 0, 2, 0, 0]))\n",
    "print(pop([0]))"
   ]
  },
  {
   "cell_type": "code",
   "execution_count": 8,
   "id": "a9a37a86",
   "metadata": {},
   "outputs": [
    {
     "name": "stdout",
     "output_type": "stream",
     "text": [
      "Loves me,Loves me not,LOVES ME\n",
      "Loves me,Loves me not,Loves me,Loves me not,Loves me,LOVES ME NOT\n",
      "LOVES ME\n"
     ]
    }
   ],
   "source": [
    "\"\"\"3. &quot;Loves me, loves me not&quot; is a traditional game in which a person plucks off all the petals of a flower one\n",
    "by one, saying the phrase Loves me and Loves me not when determining whether the one that they love, loves them back.\n",
    "Given a number of petals, return a string which repeats the phrases Loves me and Loves me not for every alternating petal,\n",
    "and return the last phrase in all caps. Remember to put a comma and space between phrases.\"\"\"\n",
    "\n",
    "def loves_me(n):\n",
    "    l=[\"Loves me\",\"Loves me not\"]\n",
    "    for i in range(n):\n",
    "        if i==(n-1):\n",
    "            print(l[i%2].upper())\n",
    "        elif i%2==0:\n",
    "            print(l[i%2],end=\",\")\n",
    "        else:\n",
    "            print(l[i%2], end=\",\")\n",
    "loves_me(3)\n",
    "loves_me(6)\n",
    "loves_me(1)"
   ]
  },
  {
   "cell_type": "code",
   "execution_count": 15,
   "id": "86607769",
   "metadata": {},
   "outputs": [
    {
     "name": "stdout",
     "output_type": "stream",
     "text": [
      "['304q2', '5y5', '572z']\n",
      "['2344b', '932c', '832u32']\n",
      "['99a', '78b', 'c2345', '11d']\n",
      "[]\n"
     ]
    }
   ],
   "source": [
    "\"\"\"4. Write a function that sorts each string in a list by the letter in alphabetic ascending order (a-z).\"\"\"\n",
    "import re\n",
    "\n",
    "def str_sort(s):\n",
    "    return list(map(str, re.findall(\"([A-Za-z])\",s)))[0]\n",
    "def sort_by_letter(s):\n",
    "    s.sort(key=str_sort)\n",
    "    return s\n",
    "print(sort_by_letter([\"572z\", \"5y5\", \"304q2\"]))\n",
    "print(sort_by_letter([\"932c\", \"832u32\",\"2344b\"]))\n",
    "print(sort_by_letter([\"99a\",\"78b\",\"c2345\", \"11d\"]))\n",
    "print(sort_by_letter([]))"
   ]
  },
  {
   "cell_type": "code",
   "execution_count": 16,
   "id": "e788436d",
   "metadata": {},
   "outputs": [
    {
     "data": {
      "text/plain": [
       "'C'"
      ]
     },
     "execution_count": 16,
     "metadata": {},
     "output_type": "execute_result"
    }
   ],
   "source": [
    "\"\"\"5. There are three cups on a table, at positions A, B, and C. At the start, there is a ball hidden under the cup at \n",
    "position B.\n",
    "However, I perform several swaps on the cups, which is notated as two letters. For example, if I swap the cups at positions \n",
    "A and B, I could notate this as AB or BA. Create a function that returns the letter position that the ball is at, once I\n",
    "finish swapping the cups. The swaps will be given to you as a list.\"\"\"\n",
    "\n",
    "def cup_swapping(swaps):\n",
    "    ball='B'\n",
    "    for move in swaps: \n",
    "        if ball in move:\n",
    "            if move[1]==ball:\n",
    "                ball = move[0]\n",
    "            else:\n",
    "                ball=move[1]\n",
    "    return ball\n",
    "\n",
    "cup_swapping([\"AB\", \"CA\", \"AB\"])"
   ]
  },
  {
   "cell_type": "code",
   "execution_count": null,
   "id": "861a5d99",
   "metadata": {},
   "outputs": [],
   "source": []
  }
 ],
 "metadata": {
  "kernelspec": {
   "display_name": "Python 3 (ipykernel)",
   "language": "python",
   "name": "python3"
  },
  "language_info": {
   "codemirror_mode": {
    "name": "ipython",
    "version": 3
   },
   "file_extension": ".py",
   "mimetype": "text/x-python",
   "name": "python",
   "nbconvert_exporter": "python",
   "pygments_lexer": "ipython3",
   "version": "3.9.7"
  }
 },
 "nbformat": 4,
 "nbformat_minor": 5
}

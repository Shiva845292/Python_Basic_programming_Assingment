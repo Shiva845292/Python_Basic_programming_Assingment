{
 "cells": [
  {
   "cell_type": "code",
   "execution_count": 34,
   "id": "fcb7c907",
   "metadata": {},
   "outputs": [
    {
     "data": {
      "text/plain": [
       "[1, 2, 3, 40, 5, 6, 7, 80, 9, 10, 11, 120, 13, 14, 15, 160, 17, 18, 19, 200]"
      ]
     },
     "execution_count": 34,
     "metadata": {},
     "output_type": "execute_result"
    }
   ],
   "source": [
    "\"\"\"1.Create a function that takes an integer and returns a list from 1 to the given number, where:\n",
    "1. If the number can be divided evenly by 4, amplify it by 10 (i.e. return 10 times the number).\n",
    "2. If the number cannot be divided evenly by 4, simply return the number.\"\"\"\n",
    "def amplify(n):\n",
    "    l=[]\n",
    "    for i in range(1,n+1):\n",
    "        if i%4==0:\n",
    "            l.append(i*10)\n",
    "        else:\n",
    "            l.append(i)\n",
    "    return l\n",
    "amplify(20)"
   ]
  },
  {
   "cell_type": "code",
   "execution_count": 24,
   "id": "1973990c",
   "metadata": {},
   "outputs": [
    {
     "data": {
      "text/plain": [
       "7"
      ]
     },
     "execution_count": 24,
     "metadata": {},
     "output_type": "execute_result"
    }
   ],
   "source": [
    "\"\"\"2.Create a function that takes a list of numbers and return the number that&#39;s unique.\"\"\"\n",
    "import collections\n",
    "def unique(l):\n",
    "    s=collections.Counter(l)\n",
    "    for i in s:\n",
    "        if s[i]==1:\n",
    "            return i\n",
    "unique([3, 3, 3, 7, 3, 3])"
   ]
  },
  {
   "cell_type": "code",
   "execution_count": 23,
   "id": "c0b21631",
   "metadata": {},
   "outputs": [
    {
     "data": {
      "text/plain": [
       "380"
      ]
     },
     "execution_count": 23,
     "metadata": {},
     "output_type": "execute_result"
    }
   ],
   "source": [
    "\"\"\"3.Your task is to create a Circle constructor that creates a circle with a radius provided by an argument. The circles\n",
    "constructed must have two getters getArea() (PIr^2) and getPerimeter() (2PI*r) which give both respective areas and \n",
    "perimeter (circumference).\"\"\"\n",
    "class circle():\n",
    "    def __init__(self,radius):\n",
    "        self.radius=radius\n",
    "    def getarea(self):\n",
    "        return round(self.radius**2*3.14)\n",
    "    def getPerimeter(self):\n",
    "        return round(2*self.radius*3.14)\n",
    "s=circle(11)\n",
    "s.getarea()"
   ]
  },
  {
   "cell_type": "code",
   "execution_count": 11,
   "id": "6a6d56cc",
   "metadata": {},
   "outputs": [
    {
     "data": {
      "text/plain": [
       "['Apple', 'Google', 'Microsoft']"
      ]
     },
     "execution_count": 11,
     "metadata": {},
     "output_type": "execute_result"
    }
   ],
   "source": [
    "\"\"\"4.Create a function that takes a list of strings and return a list, sorted from shortest to longest.\"\"\"\n",
    "def sort_by_length(l):\n",
    "    return sorted(l,key=len)\n",
    "sort_by_length([\"Google\", \"Apple\", \"Microsoft\"])"
   ]
  },
  {
   "cell_type": "code",
   "execution_count": 8,
   "id": "c0e697e4",
   "metadata": {},
   "outputs": [
    {
     "data": {
      "text/plain": [
       "True"
      ]
     },
     "execution_count": 8,
     "metadata": {},
     "output_type": "execute_result"
    }
   ],
   "source": [
    "\"\"\"5.Create a function that validates whether three given integers form a Pythagorean triplet. The sum of the squares of the \n",
    "two smallest integers must equal the square of the largest number to be validated.\"\"\"\n",
    "def is_triplet(a,b,c):\n",
    "    l=[]\n",
    "    l.append(a)\n",
    "    l.append(c)\n",
    "    l.append(b)\n",
    "    l=sorted(l)\n",
    "    s=l[0]**2\n",
    "    q=l[1]**2\n",
    "    l1=l[2]**2\n",
    "    if (s+q)==l1:\n",
    "        return True\n",
    "    else: \n",
    "        return False\n",
    "is_triplet(3, 4, 5)"
   ]
  },
  {
   "cell_type": "code",
   "execution_count": null,
   "id": "730990e5",
   "metadata": {},
   "outputs": [],
   "source": []
  }
 ],
 "metadata": {
  "kernelspec": {
   "display_name": "Python 3 (ipykernel)",
   "language": "python",
   "name": "python3"
  },
  "language_info": {
   "codemirror_mode": {
    "name": "ipython",
    "version": 3
   },
   "file_extension": ".py",
   "mimetype": "text/x-python",
   "name": "python",
   "nbconvert_exporter": "python",
   "pygments_lexer": "ipython3",
   "version": "3.9.7"
  }
 },
 "nbformat": 4,
 "nbformat_minor": 5
}

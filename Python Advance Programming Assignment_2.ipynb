{
 "cells": [
  {
   "cell_type": "code",
   "execution_count": 3,
   "id": "5a18d7d4",
   "metadata": {},
   "outputs": [
    {
     "data": {
      "text/plain": [
       "141"
      ]
     },
     "execution_count": 3,
     "metadata": {},
     "output_type": "execute_result"
    }
   ],
   "source": [
    "\"\"\"\n",
    "1. Write a function that takes a positive integer num and calculates how many\n",
    "dots exist in a pentagonal shape around the center dot on the Nth iteration.\n",
    "In the image below you can see the first iteration is only a single dot. On the\n",
    "second, there are 6 dots. On the third, there are 16 dots, and on the fourth\n",
    "there are 31 dots.\n",
    "\"\"\"\n",
    "def pent(n):\n",
    "    l=[1]\n",
    "    c=0\n",
    "    for i in range(2,n+1):\n",
    "        c=(i-1)*5\n",
    "        l.append(c)\n",
    "    return sum(l)\n",
    "pent(8)"
   ]
  },
  {
   "cell_type": "code",
   "execution_count": 49,
   "id": "ee1323f5",
   "metadata": {},
   "outputs": [
    {
     "name": "stdout",
     "output_type": "stream",
     "text": [
      "0v2hsaca\n"
     ]
    }
   ],
   "source": [
    "\"\"\"\n",
    "2.Question\n",
    "Step 1: Reverse the input: &quot;elppa&quot;\n",
    "Step 2: Replace all vowels using the following chart:\n",
    "a = 0\n",
    "e = 1\n",
    "i = 2\n",
    "o = 2\n",
    "u = 3\n",
    "# &quot;1lpp0&quot;\n",
    "\n",
    "Step 3: Add &quot;aca&quot; to the end of the word: &quot;1lpp0aca&quot;\n",
    "Output: &quot;1lpp0aca&quot;\n",
    "\"\"\"\n",
    "def encrypt(n):\n",
    "    vowels = {\"e\":1,\"a\":0,\"i\":2,\"o\":2,\"u\":3}\n",
    "    #print(type(vowels))\n",
    "    new=n[::-1]\n",
    "    #l=[]\n",
    "    for i in vowels:\n",
    "        new=new.replace(str(i),str(vowels[i]))\n",
    "    print(f'{new}aca')\n",
    "#     for i in new:\n",
    "#         for j in vowels.keys():\n",
    "#             print(j,end=\" \")\n",
    "#             if j == i.lower():\n",
    "#                 #print(i,end=\"\\n\")\n",
    "#                 s=vowels.get(j)\n",
    "#                 l.append(s)\n",
    "#             else:\n",
    "#                 l.append(i)\n",
    "#                 break\n",
    "#     l.append(\"aca\")\n",
    "#     #print(l,\"\\n\")\n",
    "#     for i in l:\n",
    "#         print(i,end=\"\")\n",
    "encrypt(\"shiva\")\n",
    "                \n",
    "                "
   ]
  },
  {
   "cell_type": "code",
   "execution_count": 6,
   "id": "7a103905",
   "metadata": {},
   "outputs": [
    {
     "data": {
      "text/plain": [
       "'True'"
      ]
     },
     "execution_count": 6,
     "metadata": {},
     "output_type": "execute_result"
    }
   ],
   "source": [
    "\"\"\"\n",
    "Given the month and year as numbers, return whether that month contains\n",
    "a Friday 13th\n",
    "\"\"\"\n",
    "import datetime\n",
    "def check(m,y):\n",
    "    return str(datetime.date(y,m,13).strftime(\"%A\")==\"Friday\")\n",
    "check(3,2020)"
   ]
  },
  {
   "cell_type": "code",
   "execution_count": 15,
   "id": "81e8427b",
   "metadata": {},
   "outputs": [
    {
     "data": {
      "text/plain": [
       "2"
      ]
     },
     "execution_count": 15,
     "metadata": {},
     "output_type": "execute_result"
    }
   ],
   "source": [
    "\"\"\"\n",
    "4. Write a regular expression that will help us count how many bad cookies\n",
    "are produced every day. You must use RegEx negative lookbehind.\n",
    "\"\"\"\n",
    "import re\n",
    "lst = [\"bad cookie\", \"good cookie\", \"bad cookie\", \"good cookie\"]\n",
    "pattern =\"([b][a][d] [a-zA-Z]+)\"\n",
    "len(re.findall(pattern, \",\".join(lst)))"
   ]
  },
  {
   "cell_type": "code",
   "execution_count": 18,
   "id": "e0831eea",
   "metadata": {},
   "outputs": [
    {
     "data": {
      "text/plain": [
       "'15//0'"
      ]
     },
     "execution_count": 18,
     "metadata": {},
     "output_type": "execute_result"
    }
   ],
   "source": []
  },
  {
   "cell_type": "code",
   "execution_count": 51,
   "id": "1b0dfa38",
   "metadata": {},
   "outputs": [
    {
     "data": {
      "text/plain": [
       "{'cows', 'pig'}"
      ]
     },
     "execution_count": 51,
     "metadata": {},
     "output_type": "execute_result"
    }
   ],
   "source": [
    "\"\"\"\n",
    "5. Given a list of words in the singular form, return a set of those words in the\n",
    "plural form if they appear more than once in the list.\n",
    "Examples\n",
    "pluralize([&quot;cow&quot;, &quot;pig&quot;, &quot;cow&quot;, &quot;cow&quot;]) ➞ { &quot;cows&quot;, &quot;pig&quot; }\n",
    "pluralize([&quot;table&quot;, &quot;table&quot;, &quot;table&quot;]) ➞ { &quot;tables&quot; }\n",
    "\"\"\"\n",
    "import collections \n",
    "def pluralize(l):\n",
    "    n=collections.Counter(l)\n",
    "    l1=[]\n",
    "    for i in n:\n",
    "        if n[i]>1:\n",
    "            l1.append(f'{i}s')\n",
    "        else:\n",
    "            l1.append(i)\n",
    "    s=set(l1)\n",
    "    return s\n",
    "pluralize(['cow', 'pig', 'cow','cow'])\n",
    "            "
   ]
  },
  {
   "cell_type": "code",
   "execution_count": null,
   "id": "59e81a5d",
   "metadata": {},
   "outputs": [],
   "source": []
  },
  {
   "cell_type": "code",
   "execution_count": null,
   "id": "efc62737",
   "metadata": {},
   "outputs": [],
   "source": []
  },
  {
   "cell_type": "code",
   "execution_count": null,
   "id": "710157f4",
   "metadata": {},
   "outputs": [],
   "source": []
  }
 ],
 "metadata": {
  "kernelspec": {
   "display_name": "Python 3 (ipykernel)",
   "language": "python",
   "name": "python3"
  },
  "language_info": {
   "codemirror_mode": {
    "name": "ipython",
    "version": 3
   },
   "file_extension": ".py",
   "mimetype": "text/x-python",
   "name": "python",
   "nbconvert_exporter": "python",
   "pygments_lexer": "ipython3",
   "version": "3.9.7"
  }
 },
 "nbformat": 4,
 "nbformat_minor": 5
}

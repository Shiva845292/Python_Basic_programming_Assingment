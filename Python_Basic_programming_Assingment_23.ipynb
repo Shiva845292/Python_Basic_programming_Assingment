{
 "cells": [
  {
   "cell_type": "code",
   "execution_count": 7,
   "id": "48971050",
   "metadata": {},
   "outputs": [
    {
     "data": {
      "text/plain": [
       "True"
      ]
     },
     "execution_count": 7,
     "metadata": {},
     "output_type": "execute_result"
    }
   ],
   "source": [
    "\"\"\"1.Create a function that takes a number as an argument and returns True or False depending on whether the number is \n",
    "symmetrical or not. A number is symmetrical when it is the same as its reverse.\"\"\"\n",
    "def is_symmetrical(n):\n",
    "    n=str(n)\n",
    "    n1=n[::-1]\n",
    "    if n==n1:\n",
    "        return True\n",
    "    else:\n",
    "        return False\n",
    "is_symmetrical(7227)"
   ]
  },
  {
   "cell_type": "code",
   "execution_count": 60,
   "id": "14b7def8",
   "metadata": {},
   "outputs": [
    {
     "data": {
      "text/plain": [
       "-48"
      ]
     },
     "execution_count": 60,
     "metadata": {},
     "output_type": "execute_result"
    }
   ],
   "source": [
    "\"\"\"2.Given a string of numbers separated by a comma and space, return the product of the numbers.\"\"\"\n",
    "def multiply_nums(s):\n",
    "    s=eval(s)\n",
    "    z=1\n",
    "    for i in s:\n",
    "        z*=i\n",
    "    return z\n",
    "multiply_nums(\"2, 3, 4, -2\")"
   ]
  },
  {
   "cell_type": "code",
   "execution_count": 73,
   "id": "9e459a67",
   "metadata": {},
   "outputs": [
    {
     "name": "stdout",
     "output_type": "stream",
     "text": [
      "811181"
     ]
    }
   ],
   "source": [
    "\"\"\"3.Create a function that squares every digit of a number.\"\"\"\n",
    "def square_digits(n):\n",
    "    n=str(n)\n",
    "    l=[]\n",
    "    for i in range(len(n)):\n",
    "        z=int(n[i])**2\n",
    "        l.append(z)\n",
    "    for i in l:\n",
    "        print(i,end=\"\")\n",
    "square_digits(9119)"
   ]
  },
  {
   "cell_type": "code",
   "execution_count": 76,
   "id": "d67316cc",
   "metadata": {},
   "outputs": [
    {
     "data": {
      "text/plain": [
       "[1, 3, 5]"
      ]
     },
     "execution_count": 76,
     "metadata": {},
     "output_type": "execute_result"
    }
   ],
   "source": [
    "\"\"\"4.Create a function that sorts a list and removes all duplicate items from it.\"\"\"\n",
    "def setify(l):\n",
    "    return(sorted(list(set(l))))\n",
    "setify([1, 3, 3, 5, 5])"
   ]
  },
  {
   "cell_type": "code",
   "execution_count": 90,
   "id": "19b055a1",
   "metadata": {},
   "outputs": [
    {
     "data": {
      "text/plain": [
       "3"
      ]
     },
     "execution_count": 90,
     "metadata": {},
     "output_type": "execute_result"
    }
   ],
   "source": [
    "\"\"\"5.Create a function that returns the mean of all digits.\"\"\"\n",
    "import statistics\n",
    "def mean(n):\n",
    "    n=str(n)\n",
    "    l=[]\n",
    "    for i in range(len(n)):\n",
    "        l.append(int(n[i]))\n",
    "    return statistics.mean(l)\n",
    "mean(42)"
   ]
  },
  {
   "cell_type": "code",
   "execution_count": null,
   "id": "f69b46e3",
   "metadata": {},
   "outputs": [],
   "source": []
  }
 ],
 "metadata": {
  "kernelspec": {
   "display_name": "Python 3 (ipykernel)",
   "language": "python",
   "name": "python3"
  },
  "language_info": {
   "codemirror_mode": {
    "name": "ipython",
    "version": 3
   },
   "file_extension": ".py",
   "mimetype": "text/x-python",
   "name": "python",
   "nbconvert_exporter": "python",
   "pygments_lexer": "ipython3",
   "version": "3.9.7"
  }
 },
 "nbformat": 4,
 "nbformat_minor": 5
}

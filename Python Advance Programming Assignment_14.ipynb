{
 "cells": [
  {
   "cell_type": "code",
   "execution_count": 3,
   "id": "5a0b7ba6",
   "metadata": {},
   "outputs": [
    {
     "name": "stdout",
     "output_type": "stream",
     "text": [
      "[3.0, 3.0, 3.0]\n",
      "[12.0, 7.5, 14.5]\n",
      "[27.0, 75.0]\n"
     ]
    }
   ],
   "source": [
    "\"\"\"1. Given a list of numbers, create a function that removes 25% from every\n",
    "number in the list except the smallest number, and adds the total amount\n",
    "removed to the smallest number.\"\"\"\n",
    "\n",
    "def show_the_love(in_list):\n",
    "    out_list = in_list.copy()\n",
    "    sum_num = 0\n",
    "    for ele in range(len(out_list)):\n",
    "        if out_list[ele] is not min(out_list):\n",
    "            sum_num += out_list[ele]/4\n",
    "            out_list[ele] =  out_list[ele]-(out_list[ele]/4)\n",
    "    out_list[out_list.index(min(out_list))] = sum_num +min(out_list)\n",
    "    print(out_list)\n",
    "            \n",
    "show_the_love([4, 1, 4])\n",
    "show_the_love([16, 10, 8])\n",
    "show_the_love([2, 100])"
   ]
  },
  {
   "cell_type": "code",
   "execution_count": 5,
   "id": "8efb445c",
   "metadata": {},
   "outputs": [
    {
     "name": "stdout",
     "output_type": "stream",
     "text": [
      "['spa', 'hr', 'o']\n",
      "['mha', 'ct', '']\n",
      "['ulf', 'rke', 'y']\n"
     ]
    }
   ],
   "source": [
    "\"\"\"2. Create a function that takes in two words as input and returns a list of three\n",
    "elements, in the following order:\n",
    "1.Shared letters between two words.\n",
    "2.Letters unique to word 1.\n",
    "3.Letters unique to word 2.\n",
    "Each element should have unique letters, and have each letter be\n",
    "alphabetically sorted.\"\"\"\n",
    "\n",
    "def letters(s1,s2):\n",
    "    s1=set(s1)\n",
    "    l=[]\n",
    "    inter=s1.intersection(s2)\n",
    "    intersection=\"\"\n",
    "    first_diff=\"\"\n",
    "    sec_diff=\"\"\n",
    "    for i in inter:\n",
    "        intersection+=i\n",
    "    l.append(intersection)\n",
    "    diff=s1.difference(s2)\n",
    "    for i in diff:\n",
    "        first_diff+=i\n",
    "    l.append(first_diff)\n",
    "    s2=set(s2)\n",
    "    diffe=s2.difference(s1)\n",
    "    for i in diffe:\n",
    "        sec_diff+=i\n",
    "    l.append(sec_diff)\n",
    "    print(l)\n",
    "\n",
    "letters(\"sharp\", \"soap\")\n",
    "letters(\"match\",\"ham\")\n",
    "letters(\"kerfuffle\",\"fluffy\")"
   ]
  },
  {
   "cell_type": "code",
   "execution_count": 7,
   "id": "b1f203dc",
   "metadata": {},
   "outputs": [
    {
     "name": "stdout",
     "output_type": "stream",
     "text": [
      "[[1, 7], [2, 6], [3, 5], [4, 4]]\n",
      "[[1, 6], [2, 5], [3, 4]]\n",
      "[[5, 2], [9, 1], [8, 8]]\n",
      "[]\n"
     ]
    }
   ],
   "source": [
    "\"\"\"3. Write a function that pairs the first number in an array with the last, the\n",
    "second number with the second to last, etc.\"\"\"\n",
    "\n",
    "def pairs(pair):\n",
    "    pair.insert(0,0)\n",
    "    n=len(pair)\n",
    "    l=[]\n",
    "    if n%2!=0:\n",
    "        for i in range(1,(n//2)+1):\n",
    "            l.append([pair[i],pair[-i]])\n",
    "    else:\n",
    "        for i in range(1,(n//2)+1):\n",
    "            l.append([pair[i],pair[-i]])\n",
    "    print(l)\n",
    "\n",
    "pairs([1, 2, 3, 4, 5, 6, 7])\n",
    "pairs([1, 2, 3, 4, 5, 6])\n",
    "pairs([5, 9, 8, 1, 2])\n",
    "pairs([])"
   ]
  },
  {
   "cell_type": "code",
   "execution_count": 9,
   "id": "03e0d9d3",
   "metadata": {},
   "outputs": [
    {
     "name": "stdout",
     "output_type": "stream",
     "text": [
      "9\n",
      "-1\n",
      "-1\n",
      "1874682736267235927391936562808774986\n"
     ]
    }
   ],
   "source": [
    "\"\"\"4. Write a function that adds two numbers. The catch, however, is that the\n",
    "numbers will be strings.\"\"\"\n",
    "\n",
    "def add_str_nums(n1,n2):\n",
    "    try :\n",
    "        print(int(n1)+int(n2))\n",
    "    except:\n",
    "        print(-1)\n",
    "    \n",
    "add_str_nums(\"4\", \"5\")\n",
    "add_str_nums(\"abcdefg\", \"3\")\n",
    "add_str_nums(\"1\", \"\")\n",
    "add_str_nums(\"1874682736267235927359283579235789257\",\"32652983572985729\")"
   ]
  },
  {
   "cell_type": "code",
   "execution_count": 10,
   "id": "079d18d6",
   "metadata": {},
   "outputs": [
    {
     "name": "stdout",
     "output_type": "stream",
     "text": [
      "214365\n",
      "This is a mixed up string.\n",
      "abcd\n"
     ]
    }
   ],
   "source": [
    "\"\"\"5. lPaeesh le pemu mnxit ehess rtnisg! Oh, sorry, that was supposed to say:\n",
    "Please help me unmix these strings!\n",
    "Somehow my strings have all become mixed up; every pair of characters has\n",
    "been swapped. Help me undo this so I can understand my strings again.\"\"\"\n",
    "\n",
    "def unmix(s):\n",
    "    s=\"0\"+s\n",
    "    order=\"\"\n",
    "    nex=\"\"\n",
    "    for i in range(1,len(s)):\n",
    "        if i%2!=0:\n",
    "            order+=s[i]\n",
    "        else:\n",
    "            nex+=s[i]\n",
    "    new=\"\"\n",
    "    for i in range(len(nex)):\n",
    "        new+=nex[i]\n",
    "        new+=order[i]\n",
    "    print(new)\n",
    "\n",
    "unmix(\"123456\")\n",
    "unmix(\"hTsii  s aimex dpus rtni.g\")\n",
    "unmix(\"badce\")"
   ]
  },
  {
   "cell_type": "code",
   "execution_count": null,
   "id": "6b1a9365",
   "metadata": {},
   "outputs": [],
   "source": []
  }
 ],
 "metadata": {
  "kernelspec": {
   "display_name": "Python 3 (ipykernel)",
   "language": "python",
   "name": "python3"
  },
  "language_info": {
   "codemirror_mode": {
    "name": "ipython",
    "version": 3
   },
   "file_extension": ".py",
   "mimetype": "text/x-python",
   "name": "python",
   "nbconvert_exporter": "python",
   "pygments_lexer": "ipython3",
   "version": "3.9.7"
  }
 },
 "nbformat": 4,
 "nbformat_minor": 5
}

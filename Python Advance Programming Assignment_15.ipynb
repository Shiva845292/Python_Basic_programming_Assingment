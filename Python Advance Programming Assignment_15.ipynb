{
 "cells": [
  {
   "cell_type": "code",
   "execution_count": 5,
   "id": "f34f1f57",
   "metadata": {},
   "outputs": [
    {
     "name": "stdout",
     "output_type": "stream",
     "text": [
      "True\n",
      "False\n",
      "True\n",
      "True\n"
     ]
    }
   ],
   "source": [
    "\"\"\"1. Write a function that returns True if a given name can generate an array of words.\"\"\"\n",
    "\n",
    "def anagram(s,l):\n",
    "    s1=\"\".join(l)\n",
    "    l1=[]\n",
    "    l2=[\" \"]\n",
    "    for i in s.lower():\n",
    "        l1.append(i)\n",
    "    for i in s1.lower():\n",
    "        l2.append(i)\n",
    "    for i in l2:\n",
    "        if i in l1:\n",
    "            l1.remove(i)\n",
    "        else:\n",
    "            pass\n",
    "    if len(l1)<1:\n",
    "        print(True,)\n",
    "    else:\n",
    "        print(False)\n",
    "        \n",
    "anagram(\"Jeff Goldblum\", [\"jog\",\"meld\",\"bluffs\"])\n",
    "anagram(\"Chris Pratt\",[\"chirps\",\"rat\"])\n",
    "anagram(\"Justin Bieber\",[\"injures\",\"ebb\",\"it\"])\n",
    "anagram(\"Natalie Portman\", [\"ornamental\", \"pita\"])"
   ]
  },
  {
   "cell_type": "code",
   "execution_count": 4,
   "id": "8d8f4cc0",
   "metadata": {},
   "outputs": [
    {
     "name": "stdout",
     "output_type": "stream",
     "text": [
      "[{'name': 'c', 'score': 115, 'reputation': 30}, {'name': 'b', 'score': 90, 'reputation': 40}, {'name': 'a', 'score': 100, 'reputation': 20}]\n"
     ]
    }
   ],
   "source": [
    "\"\"\"2. Given an array of users, each defined by an object with the following\n",
    "properties: name, score, reputation create a function that sorts the array to\n",
    "form the correct leaderboard.\n",
    "The leaderboard takes into consideration the score of each user of course,\n",
    "but an emphasis is put on their reputation in the community, so to get the\n",
    "trueScore, you should add the reputation multiplied by 2 to the score.\n",
    "Once you know the trueScore of each user, sort the array according to it in\n",
    "descending order.\"\"\"\n",
    "\n",
    "def leaderboards(leaderboards):\n",
    "    l=[]\n",
    "    dic={}\n",
    "    for i in leaderboards:\n",
    "        dic[(i[\"reputation\"]*2+i[\"score\"])]=i\n",
    "    for i in sorted(dic.keys(),reverse=True):\n",
    "        l.append(dic[i])\n",
    "    print(l)\n",
    "\n",
    "leaderboards([\n",
    "{ \"name\": \"a\", \"score\": 100, \"reputation\": 20 },\n",
    "{ \"name\": \"b\", \"score\": 90, \"reputation\": 40 },\n",
    "{ \"name\": \"c\",\"score\": 115, \"reputation\": 30 }\n",
    "])"
   ]
  },
  {
   "cell_type": "code",
   "execution_count": 5,
   "id": "680a8e94",
   "metadata": {},
   "outputs": [
    {
     "name": "stdout",
     "output_type": "stream",
     "text": [
      "-e---o--e-\n",
      "tree\n",
      "P----n-r----\n",
      "-e\"--a--e-y--a----y---y!\n"
     ]
    }
   ],
   "source": [
    "\"\"\"3. Create a function that, given a phrase and a number of letters guessed,\n",
    "returns a string with hyphens - for every letter of the phrase not guessed, and\n",
    "each letter guessed in place.\"\"\"\n",
    "\n",
    "def hangman(s,l):\n",
    "    for i in range(len(s)):\n",
    "        if s[i].lower() in l:\n",
    "            pass\n",
    "        elif \"!\" in s[i] or '\"' in s[i]:\n",
    "            l.append(\"!\")\n",
    "        else:\n",
    "            s=s.replace(s[i],\"-\")\n",
    "    print(s)\n",
    "    \n",
    "hangman(\"helicopter\", [\"o\", \"e\", \"s\"])\n",
    "hangman(\"tree\", [\"r\", \"t\", \"e\"])\n",
    "hangman(\"Python rules\", [\"a\", \"n\", \"p\", \"r\", \"z\"])\n",
    "hangman(\"He\\\"s a very naughty boy!\", [\"e\", \"a\", \"y\"])"
   ]
  },
  {
   "cell_type": "code",
   "execution_count": 7,
   "id": "bc210c21",
   "metadata": {},
   "outputs": [
    {
     "name": "stdout",
     "output_type": "stream",
     "text": [
      "16\n",
      "32\n",
      "256\n"
     ]
    }
   ],
   "source": [
    "\"\"\"4. The Collatz sequence is as follows:\n",
    "- Start with some given integer n.\n",
    "- If it is even, the next number will be n divided by 2.\n",
    "- If it is odd, multiply it by 3 and add 1 to make the next number.\n",
    "- The sequence stops when it reaches 1.\n",
    "According to the Collatz conjecture, it will always reach 1. If that&#39;s true, you\n",
    "can construct a finite sequence following the aforementioned method for any\n",
    "given integer.\n",
    "Write a function that takes in an integer n and returns the highest integer in\n",
    "the corresponding Collatz sequence.\"\"\"\n",
    "def max_collatz(n):\n",
    "    l=[]\n",
    "    l.append(n)\n",
    "    while True:\n",
    "        if n%2 == 0:\n",
    "            n/= 2\n",
    "        else:\n",
    "            n = (n*3)+1\n",
    "        l.append(int(n))\n",
    "        if n ==1:\n",
    "            break\n",
    "    print(max(l))\n",
    "\n",
    "max_collatz(10)\n",
    "max_collatz(32)\n",
    "max_collatz(85)\n"
   ]
  },
  {
   "cell_type": "code",
   "execution_count": 8,
   "id": "26152b28",
   "metadata": {},
   "outputs": [
    {
     "name": "stdout",
     "output_type": "stream",
     "text": [
      "[101, 23, 77, 5, 7]\n",
      "[444, 563, 789, 1, 2, 5, 9]\n",
      "[53219, 3772, 564, 32, 1]\n"
     ]
    }
   ],
   "source": [
    "\"\"\"5. Write a function that sorts a list of integers by their digit length in\n",
    "descending order, then settles ties by sorting numbers with the same digit\n",
    "length in ascending order.\"\"\"\n",
    "\n",
    "def digit_sort(l):\n",
    "    n=len(str(max(l)))\n",
    "    l2=[]\n",
    "    for i in range(n,0,-1):\n",
    "        l1=[]\n",
    "        for j in l:\n",
    "            if len(str(j)) == i:\n",
    "                l1.append(j)\n",
    "        l2.extend(sorted(l1))\n",
    "    print(l2)\n",
    "\n",
    "digit_sort([77, 23, 5, 7, 101])\n",
    "digit_sort([1, 5, 9, 2, 789, 563, 444])\n",
    "digit_sort([53219, 3772, 564, 32, 1])"
   ]
  },
  {
   "cell_type": "code",
   "execution_count": null,
   "id": "0e90711c",
   "metadata": {},
   "outputs": [],
   "source": []
  }
 ],
 "metadata": {
  "kernelspec": {
   "display_name": "Python 3 (ipykernel)",
   "language": "python",
   "name": "python3"
  },
  "language_info": {
   "codemirror_mode": {
    "name": "ipython",
    "version": 3
   },
   "file_extension": ".py",
   "mimetype": "text/x-python",
   "name": "python",
   "nbconvert_exporter": "python",
   "pygments_lexer": "ipython3",
   "version": "3.9.7"
  }
 },
 "nbformat": 4,
 "nbformat_minor": 5
}

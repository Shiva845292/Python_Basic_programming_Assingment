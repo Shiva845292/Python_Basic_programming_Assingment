{
 "cells": [
  {
   "cell_type": "code",
   "execution_count": 24,
   "id": "5dd25e29",
   "metadata": {},
   "outputs": [
    {
     "data": {
      "text/plain": [
       "2"
      ]
     },
     "execution_count": 24,
     "metadata": {},
     "output_type": "execute_result"
    }
   ],
   "source": [
    "\"\"\"1.Create a function that takes three integer arguments (a, b, c) and returns the amount of integers which are of equal \n",
    "value.\"\"\"\n",
    "import collections\n",
    "def equal(a,b,c):\n",
    "    l=[]\n",
    "    l1=[]\n",
    "    l.append(a)\n",
    "    l.append(c)\n",
    "    l.append(b)\n",
    "    s=collections.Counter(l)\n",
    "    for i in s:\n",
    "        l1.append(s[i])\n",
    "    return(max(l1))\n",
    "equal(3, 4, 3)"
   ]
  },
  {
   "cell_type": "code",
   "execution_count": 35,
   "id": "728b340e",
   "metadata": {},
   "outputs": [
    {
     "data": {
      "text/plain": [
       "[('B', 2), ('C', 3), ('D', 1)]"
      ]
     },
     "execution_count": 35,
     "metadata": {},
     "output_type": "execute_result"
    }
   ],
   "source": [
    "\"\"\"2.Write a function that converts a dictionary into a list of keys-values tuples.\"\"\"\n",
    "def dict_to_list(d):\n",
    "    s=[s for s in d.items()]\n",
    "    return sorted(s)\n",
    "dict_to_list({\"D\": 1,\"B\": 2,\"C\": 3})"
   ]
  },
  {
   "cell_type": "code",
   "execution_count": 41,
   "id": "1a17f6e0",
   "metadata": {},
   "outputs": [
    {
     "data": {
      "text/plain": [
       "{'p': 'P', 's': 'S'}"
      ]
     },
     "execution_count": 41,
     "metadata": {},
     "output_type": "execute_result"
    }
   ],
   "source": [
    "\"\"\"3.Write a function that creates a dictionary with each (key, value) pair being the (lower case, upper case) versions of \n",
    "a letter, respectively.\"\"\"\n",
    "def mapping(l):\n",
    "    s= {i:i.upper() for i in l}\n",
    "    return s\n",
    "mapping([\"p\", \"s\"])"
   ]
  },
  {
   "cell_type": "code",
   "execution_count": 42,
   "id": "b0eae8ad",
   "metadata": {},
   "outputs": [
    {
     "data": {
      "text/plain": [
       "'upplus und bununus'"
      ]
     },
     "execution_count": 42,
     "metadata": {},
     "output_type": "execute_result"
    }
   ],
   "source": [
    "\"\"\"4.Write a function, that replaces all vowels in a string with a specified vowel.\"\"\"\n",
    "def vow_replace(s,v):\n",
    "    a=\"aeiou\"\n",
    "    for i in a:\n",
    "        s=s.replace(i,v)\n",
    "    return s\n",
    "vow_replace(\"apples and bananas\", \"u\")"
   ]
  },
  {
   "cell_type": "code",
   "execution_count": 51,
   "id": "30762f03",
   "metadata": {},
   "outputs": [
    {
     "data": {
      "text/plain": [
       "'To Be oR NoT To Be!'"
      ]
     },
     "execution_count": 51,
     "metadata": {},
     "output_type": "execute_result"
    }
   ],
   "source": [
    "\"\"\"5.Create a function that takes a string as input and capitalizes a letter if its ASCII code is even and returns its \n",
    "lower case version if its ASCII code is odd.\"\"\"\n",
    "def ascii_capitalize(s):\n",
    "    l=[]\n",
    "    for i in s:\n",
    "        n=ord(i)\n",
    "        if n%2==0:\n",
    "            l.append(i.upper())\n",
    "        else:\n",
    "            l.append(i.lower())\n",
    "    return \"\".join(l)\n",
    "ascii_capitalize(\"to be or not to be!\")"
   ]
  },
  {
   "cell_type": "code",
   "execution_count": null,
   "id": "071b2540",
   "metadata": {},
   "outputs": [],
   "source": []
  }
 ],
 "metadata": {
  "kernelspec": {
   "display_name": "Python 3 (ipykernel)",
   "language": "python",
   "name": "python3"
  },
  "language_info": {
   "codemirror_mode": {
    "name": "ipython",
    "version": 3
   },
   "file_extension": ".py",
   "mimetype": "text/x-python",
   "name": "python",
   "nbconvert_exporter": "python",
   "pygments_lexer": "ipython3",
   "version": "3.9.7"
  }
 },
 "nbformat": 4,
 "nbformat_minor": 5
}

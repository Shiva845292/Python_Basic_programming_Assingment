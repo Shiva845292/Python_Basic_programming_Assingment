{
 "cells": [
  {
   "cell_type": "code",
   "execution_count": 4,
   "id": "f490a82d",
   "metadata": {},
   "outputs": [
    {
     "name": "stdout",
     "output_type": "stream",
     "text": [
      "True\n",
      "True\n",
      "False\n",
      "False\n"
     ]
    }
   ],
   "source": [
    "\"\"\"1. Given a sentence as txt, return True if any two adjacent words have this property: One word ends with a vowel, while \n",
    "the word immediately after begins with a vowel (a e i o u).\"\"\"\n",
    "\n",
    "def vowel_links(s):\n",
    "    l=s.split()\n",
    "    vowel=\"aeiou\"\n",
    "    co=1\n",
    "    for i in vowel:\n",
    "        for j in l:\n",
    "            if j[-1]==i:\n",
    "                co+=1\n",
    "    if co>2:\n",
    "        return True\n",
    "    else:\n",
    "        return False\n",
    "    \n",
    "print(vowel_links(\"a very large appliance\"))\n",
    "print(vowel_links(\"go to edabit\"))\n",
    "print(vowel_links(\"an open fire\"))\n",
    "print(vowel_links(\"a sudden applause\"))"
   ]
  },
  {
   "cell_type": "code",
   "execution_count": 7,
   "id": "a4a0fefd",
   "metadata": {},
   "outputs": [
    {
     "name": "stdout",
     "output_type": "stream",
     "text": [
      "True\n",
      "True\n",
      "False\n",
      "False\n"
     ]
    }
   ],
   "source": [
    "\"\"\"2. You are given three inputs: a string, one letter, and a second letter. Write a function that returns True if every \n",
    "instance of the first letter occurs before every instance of the second letter.\"\"\"\n",
    "\n",
    "def first_before_second(s,s1,s2):\n",
    "    co=ind1=0\n",
    "    for i in s:\n",
    "        ind1=s.find(s2)\n",
    "        for j in range(ind1,len(s)):\n",
    "            if s1==s[j]:\n",
    "                co=1\n",
    "            else:\n",
    "                pass\n",
    "    if co==0:\n",
    "        return True\n",
    "    else:\n",
    "        return False\n",
    "    \n",
    "print(first_before_second(\"a rabbit jumps joyfully \", \"a\", \"j\"))\n",
    "print(first_before_second(\"knaves knew about waterfalls\", \"k\", \"w\"))\n",
    "print(first_before_second(\"happy birthday\", \"a\", \"y\"))\n",
    "print(first_before_second(\"precarious kangaroos\", \"k\", \"a\"))"
   ]
  },
  {
   "cell_type": "code",
   "execution_count": 9,
   "id": "148e8694",
   "metadata": {},
   "outputs": [
    {
     "name": "stdout",
     "output_type": "stream",
     "text": [
      "[4, 8]\n",
      "EAI\n",
      "['A', 'B', 'T', 'A', 'I', 'Y']\n"
     ]
    }
   ],
   "source": [
    "\"\"\"3. Create a function that returns the characters from a list or string r on odd or even positions, depending on the \n",
    "specifier s. The specifier will be &quot;odd&quot; foritems on odd positions (1, 3, 5, ...) and &quot;even&quot; for items \n",
    "on even positions (2,4, 6, ...).\"\"\"\n",
    "\n",
    "def char_at_pos(*arrgs):\n",
    "    value=arrgs[0]\n",
    "    if arrgs[1].lower()==\"even\":\n",
    "        l=[i for i in range(1,len(arrgs[0])) if i%2!=0]\n",
    "        return list_or_string(arrgs[0],l)\n",
    "    elif arrgs[1].lower()==\"odd\":\n",
    "        l=[i for i in range(len(arrgs[0])) if i%2==0]\n",
    "        return list_or_string(arrgs[0],l)\n",
    "        \n",
    "def list_or_string(value,l):\n",
    "    re=[]\n",
    "    res=\"\"\n",
    "    if type(value)==list:\n",
    "        for i in l:\n",
    "            re.append(value[i])\n",
    "        return re\n",
    "    else:\n",
    "        for i in l:\n",
    "            res+=value[i]\n",
    "        return res\n",
    "    \n",
    "print(char_at_pos([2, 4, 6, 8, 10], \"even\"))\n",
    "print(char_at_pos(\"EDABIT\", \"odd\"))\n",
    "print(char_at_pos([\"A\",\"R\", \"B\",\"I\", \"T\", \"R\",\"A\", \"R\",\"I\", \"L\",\"Y\"], \"odd\"))"
   ]
  },
  {
   "cell_type": "code",
   "execution_count": 10,
   "id": "fa563642",
   "metadata": {},
   "outputs": [
    {
     "name": "stdout",
     "output_type": "stream",
     "text": [
      "64\n",
      "1\n",
      "64\n"
     ]
    }
   ],
   "source": [
    "\"\"\"4. Write a function that returns the greatest common divisor of all list elements. If the greatest common divisor is 1, return 1.\"\"\"\n",
    "\n",
    "def find_gcd(x, y):\n",
    "    while(y):\n",
    "        x, y = y, x % y\n",
    "    return x\n",
    "\n",
    "def GCD(l):\n",
    "    num1=l[0]\n",
    "    num2=l[1]\n",
    "    gcd=find_gcd(num1,num2)\n",
    "\n",
    "    for i in range(2,len(l)):\n",
    "        gcd=find_gcd(gcd,l[i])\n",
    "    return gcd\n",
    "\n",
    "print(GCD([1024, 192, 2048, 512]))\n",
    "print(GCD([1, 2, 3, 100]))\n",
    "print(GCD([1024, 192, 2048, 512]))"
   ]
  },
  {
   "cell_type": "code",
   "execution_count": 11,
   "id": "2c5e4945",
   "metadata": {},
   "outputs": [
    {
     "name": "stdout",
     "output_type": "stream",
     "text": [
      "Decimal only.\n",
      "binary only.\n",
      "Decimal and binary.\n",
      "Neither!\n"
     ]
    }
   ],
   "source": [
    "\"\"\"5. A number/string is a palindrome if the digits/characters are the same when read both forward and backward. Examples \n",
    "include &quot;racecar&quot; and 12321. Given a positive number n, check if n or the binary representation of n is \n",
    "palindromic. \n",
    "Return the following:\n",
    "- &quot;Decimal only.&quot; if only n is a palindrome.\n",
    "- &quot;Binary only.&quot; if only the binary representation of n is a palindrome.\n",
    "- &quot;Decimal and binary.&quot; if both are palindromes.\n",
    "- &quot;Neither!&quot; if neither are palindromes.\"\"\"\n",
    "\n",
    "def palindrome_type(n):\n",
    "    b=bin(n)\n",
    "    b=b[2:]\n",
    "    n=str(n)\n",
    "    if n[::-1]==n and b==b[::-1]:\n",
    "        return \"Decimal and binary.\"\n",
    "    elif n[::-1]!=n and b!=b[::-1]:\n",
    "        return \"Neither!\"\n",
    "    elif n[::-1]==n and b!=b[::-1]:\n",
    "        return \"Decimal only.\"\n",
    "    else:\n",
    "        return \"binary only.\"\n",
    "    \n",
    "    \n",
    "print(palindrome_type(1306031))\n",
    "print(palindrome_type(427787))\n",
    "print(palindrome_type(313))\n",
    "print(palindrome_type(934))"
   ]
  },
  {
   "cell_type": "code",
   "execution_count": null,
   "id": "fe8c3659",
   "metadata": {},
   "outputs": [],
   "source": []
  }
 ],
 "metadata": {
  "kernelspec": {
   "display_name": "Python 3 (ipykernel)",
   "language": "python",
   "name": "python3"
  },
  "language_info": {
   "codemirror_mode": {
    "name": "ipython",
    "version": 3
   },
   "file_extension": ".py",
   "mimetype": "text/x-python",
   "name": "python",
   "nbconvert_exporter": "python",
   "pygments_lexer": "ipython3",
   "version": "3.9.7"
  }
 },
 "nbformat": 4,
 "nbformat_minor": 5
}

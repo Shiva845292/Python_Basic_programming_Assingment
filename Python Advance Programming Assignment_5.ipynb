{
 "cells": [
  {
   "cell_type": "code",
   "execution_count": 18,
   "id": "38524573",
   "metadata": {},
   "outputs": [
    {
     "name": "stdout",
     "output_type": "stream",
     "text": [
      "2\n",
      "8\n",
      "2\n"
     ]
    }
   ],
   "source": [
    "\"\"\"1. Create a function that takes a number n (integer greater than zero) as an argument, and returns 2 if n is odd and 8 \n",
    "if n is even. You can only use the following arithmetic operators: addition of numbers +, subtraction of numbers -, \n",
    "multiplication of number *, division of number /, andexponentiation **. You are not allowed to use any other methods in \n",
    "this challenge (i.e. no if statements, comparison operators, etc).\"\"\"\n",
    "\n",
    "def f(n):\n",
    "    l=[8,2]\n",
    "    return l[n%2]\n",
    "\n",
    "print(f(1))\n",
    "print(f(2))\n",
    "print(f(3))"
   ]
  },
  {
   "cell_type": "code",
   "execution_count": 21,
   "id": "08960a53",
   "metadata": {},
   "outputs": [
    {
     "name": "stdout",
     "output_type": "stream",
     "text": [
      "A\n",
      "A\n",
      "No Majority Element\n"
     ]
    }
   ],
   "source": [
    "\"\"\"2. Create a function that returns the majority vote in a list. A majority vote is an element that occurs &gt; N/2 times \n",
    "in a list (where N is the length of the list).\"\"\"\n",
    "\n",
    "def majority_vote(arr):\n",
    "    n=len(arr)\n",
    "    maxCount = 0\n",
    "    index = -1  \n",
    "    for i in range(n):\n",
    "        count = 0\n",
    "        for j in range(n):\n",
    "            if(arr[i] == arr[j]):\n",
    "                count += 1\n",
    "        if(count > maxCount):\n",
    "            maxCount = count\n",
    "            index = i\n",
    "    if (maxCount > n//2):\n",
    "        return (arr[index])\n",
    "    else:\n",
    "        return (\"No Majority Element\")\n",
    "    \n",
    "print(majority_vote([\"A\", \"A\", \"B\"]))\n",
    "print(majority_vote([\"A\", \"A\",\"A\",\"C\", \"B\",\"A\"]))\n",
    "print(majority_vote([\"A\", \"A\",\"C\", \"C\",\"B\",\"B\"]))"
   ]
  },
  {
   "cell_type": "code",
   "execution_count": 14,
   "id": "c017d3a7",
   "metadata": {},
   "outputs": [
    {
     "name": "stdout",
     "output_type": "stream",
     "text": [
      "----- is - Wednesd-y\n",
      "The *** jumped **** the moon.\n",
      "Why *** the ******* cross the road?\n"
     ]
    }
   ],
   "source": [
    "\"\"\"3. Create a function that takes a string txt and censors any word from a given\n",
    "list lst. The text removed must be replaced by the given character char.\"\"\"\n",
    "\n",
    "def censor_string(s,l,s1):\n",
    "    s2=s.split()\n",
    "    for i in range(len(l)):\n",
    "        for j in range(len(s2)):\n",
    "            if l[i]==s2[j]:\n",
    "                n=len(l[i])\n",
    "                s=s.replace(l[i],n*s1)\n",
    "    return s\n",
    "\n",
    "print(censor_string(\"Today is a Wednesday\", [\"Today\", \"a\"], \"-\"))\n",
    "print(censor_string(\"The cow jumped over the moon.\", [\"cow\", \"over\"], \"*\"))\n",
    "print(censor_string(\"Why did the chicken cross the road?\", [\"did\", \"chicken\",\"road\"],\"*\"))"
   ]
  },
  {
   "cell_type": "code",
   "execution_count": 6,
   "id": "f0a724de",
   "metadata": {},
   "outputs": [
    {
     "name": "stdout",
     "output_type": "stream",
     "text": [
      "True\n",
      "False\n"
     ]
    }
   ],
   "source": [
    "\"\"\"4. In mathematics a Polydivisible Number (or magic number) is a number in a\n",
    "given number base with digits abcde... that has the following properties:\n",
    "- Its first digit a is not 0.\n",
    "- The number formed by its first two digits ab is a multiple of 2.\n",
    "- The number formed by its first three digits abc is a multiple of 3.\n",
    "- The number formed by its first four digits abcd is a multiple of 4.\n",
    "Create a function which takes an integer n and returns True if the given\n",
    "number is a Polydivisible Number and False otherwise.\"\"\"\n",
    "\n",
    "def is_polydivisible(n):\n",
    "    n1=n\n",
    "    n=\"0\"+str(n1)\n",
    "    l=[]\n",
    "    for i in range(2,len(n)+1):\n",
    "        s=str(int(n[1:i])%(i-1))\n",
    "        l.append(s)\n",
    "        l1=set(l)\n",
    "    if len(l1)>=2:\n",
    "        return False\n",
    "    else:\n",
    "        return True\n",
    "    \n",
    "print(is_polydivisible(1232))\n",
    "print(is_polydivisible(123220))"
   ]
  },
  {
   "cell_type": "code",
   "execution_count": 10,
   "id": "37d87184",
   "metadata": {},
   "outputs": [
    {
     "name": "stdout",
     "output_type": "stream",
     "text": [
      "17\n",
      "87\n",
      "None\n"
     ]
    }
   ],
   "source": [
    "\"\"\"5. Create a function that takes a list of numbers and returns the sum of all prime numbers in the list.\"\"\"\n",
    "\n",
    "def sum_primes(li):\n",
    "    l1=set(li)\n",
    "    l=[]\n",
    "    su=0\n",
    "    for i in li:\n",
    "        for j in range(2,i):\n",
    "            if (i%j) == 0:\n",
    "                l.append(i)\n",
    "                break\n",
    "            else:\n",
    "                pass          \n",
    "    s=set(l)\n",
    "    s1=s.symmetric_difference(l1)\n",
    "    if len(s1)!=0:\n",
    "        for i in s1:\n",
    "            if i==1:\n",
    "                pass\n",
    "            else:\n",
    "                su+=i\n",
    "    else:\n",
    "        su=\"None\"\n",
    "    return su\n",
    "\n",
    "print(sum_primes([1, 2, 3, 4, 5, 6, 7, 8, 9, 10]))\n",
    "print(sum_primes([2, 3, 4, 11, 20, 50, 71]))\n",
    "print(sum_primes([]))"
   ]
  },
  {
   "cell_type": "code",
   "execution_count": null,
   "id": "26e27b9b",
   "metadata": {},
   "outputs": [],
   "source": []
  }
 ],
 "metadata": {
  "kernelspec": {
   "display_name": "Python 3 (ipykernel)",
   "language": "python",
   "name": "python3"
  },
  "language_info": {
   "codemirror_mode": {
    "name": "ipython",
    "version": 3
   },
   "file_extension": ".py",
   "mimetype": "text/x-python",
   "name": "python",
   "nbconvert_exporter": "python",
   "pygments_lexer": "ipython3",
   "version": "3.9.7"
  }
 },
 "nbformat": 4,
 "nbformat_minor": 5
}

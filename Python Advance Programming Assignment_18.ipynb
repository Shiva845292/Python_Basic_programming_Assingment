{
 "cells": [
  {
   "cell_type": "code",
   "execution_count": 7,
   "id": "028cb9f9",
   "metadata": {},
   "outputs": [
    {
     "name": "stdout",
     "output_type": "stream",
     "text": [
      "[-20, 40]\n",
      "[0, 0]\n",
      "[200, 10500]\n"
     ]
    }
   ],
   "source": [
    "\"\"\"1. A robot has been given a list of movement instructions. Each instruction is\n",
    "either left, right, up or down, followed by a distance to move. The robot starts\n",
    "at [0, 0]. You want to calculate where the robot will end up and return its final\n",
    "position as a list.\n",
    "To illustrate, if the robot is given the following instructions:\n",
    "[&quot;right 10&quot;, &quot;up 50&quot;, &quot;left 30&quot;, &quot;down 10&quot;]\n",
    "It will end up 20 left and 40 up from where it started, so we return [-20, 40].\"\"\"\n",
    "\n",
    "def track_robot(l):\n",
    "    corr=[0,0]\n",
    "    for i in l:\n",
    "        i=i.split(\" \")\n",
    "        if i[0] == \"right\":\n",
    "            corr[0]+=int(i[1])\n",
    "        elif i[0] == \"left\":\n",
    "            corr[0]-=int(i[1])\n",
    "        elif i[0] ==\"up\":\n",
    "            corr[1]+=int(i[1])\n",
    "        else:\n",
    "            corr[1]-=int(i[1])\n",
    "    print(corr)\n",
    "    \n",
    "track_robot([\"right 10\", \"up 50\", \"left 30\", \"down 10\"])\n",
    "track_robot([])\n",
    "track_robot([\"right 100\", \"right 100\", \"up 500\", \"up 10000\"])"
   ]
  },
  {
   "cell_type": "code",
   "execution_count": 18,
   "id": "b68eaa53",
   "metadata": {},
   "outputs": [
    {
     "name": "stdout",
     "output_type": "stream",
     "text": [
      "forever.\n",
      "Forgetfulness\n",
      "\"Strengths\"\n"
     ]
    }
   ],
   "source": [
    "\"\"\"2. Write a function that will return the longest word in a sentence. In cases\n",
    "where more than one word is found, return the first one.\"\"\"\n",
    "\n",
    "def find_longest(s):\n",
    "    s=s.split()\n",
    "    x={}\n",
    "    for i in s:\n",
    "        x[i]=len(i)\n",
    "    for i in x:\n",
    "        if x[i] == max(x.values()):\n",
    "            print(i)\n",
    "            \n",
    "find_longest(\"A thing of beauty is a joy forever.\")\n",
    "find_longest(\"Forgetfulness is by all means powerless!\")\n",
    "find_longest(\"\\\"Strengths\\\" is the longest and most commonly used word that contains only a single vowel.\")"
   ]
  },
  {
   "cell_type": "code",
   "execution_count": 1,
   "id": "c6283377",
   "metadata": {},
   "outputs": [
    {
     "name": "stdout",
     "output_type": "stream",
     "text": [
      "qualified\n",
      "qualified\n",
      "disqualified\n",
      "disqualified\n",
      "disqualified\n"
     ]
    }
   ],
   "source": [
    "\"\"\"The criteria for a candidate to be qualified in the coding interview is:\n",
    "1. The candidate should have complete all the questions.\n",
    "2. The maximum time given to complete the interview is 120 minutes.\n",
    "3. The maximum time given for very easy questions is 5 minutes each.\n",
    "4. The maximum time given for easy questions is 10 minutes each.\n",
    "5. The maximum time given for medium questions is 15 minutes each.\n",
    "6. The maximum time given for hard questions is 20 minutes each.\n",
    "\n",
    "If all the above conditions are satisfied, return &quot;qualified&quot;, else return\n",
    "&quot;disqualified&quot;.\n",
    "You will be given a list of time taken by a candidate to solve a particular\n",
    "question and the total time taken by the candidate to complete the interview.\n",
    "Given a list , in a true condition will always be in the format [very easy, very\n",
    "easy, easy, easy, medium, medium, hard, hard].\n",
    "The maximum time to complete the interview includes a buffer time of 20\n",
    "minutes.\"\"\"\n",
    "\n",
    "def interview(l,time):\n",
    "    output = 'qualified'\n",
    "    if time > 120 or max(l[0:2]) > 5 or max(l[2:4]) > 10 or max(l[4:6]) > 15 or max(l[6:8]) > 20 or len(l) != 8:\n",
    "            output = 'disqualified'\n",
    "    print(output)\n",
    "    \n",
    "interview([5, 5, 10, 10, 15, 15, 20, 20], 120)\n",
    "interview([2, 3, 8, 6, 5, 12, 10, 18], 64)\n",
    "interview([5, 5, 10, 10, 25, 15, 20, 20], 120)\n",
    "interview([5, 5, 10, 10, 15, 15, 20], 120)\n",
    "interview([5, 5, 10, 10, 15, 15, 20, 20], 130)"
   ]
  },
  {
   "cell_type": "code",
   "execution_count": 26,
   "id": "479a7b20",
   "metadata": {},
   "outputs": [
    {
     "name": "stdout",
     "output_type": "stream",
     "text": [
      "[[2, 3], [4, 5]]\n",
      "[[2, 3], [4, 5], [6]]\n",
      "[[2, 3, 4], [5, 6, 7]]\n",
      "[[2], [3], [4], [5], [6], [7]]\n",
      "[[2, 3, 4, 5, 6, 7]]\n"
     ]
    }
   ],
   "source": [
    "\"\"\"4. Write a function that divides a list into chunks of size n, where n is the\n",
    "length of each chunk.\"\"\"\n",
    "\n",
    "def chunkify(l,size):\n",
    "    l1=[]\n",
    "    for i in range(0,len(l),size):\n",
    "        l1.append(l[i:i+size])\n",
    "    print(l1)\n",
    "    \n",
    "chunkify([2, 3, 4, 5], 2)   \n",
    "chunkify([2, 3, 4, 5, 6], 2)\n",
    "chunkify([2, 3, 4, 5, 6, 7], 3)\n",
    "chunkify([2, 3, 4, 5, 6, 7], 1)\n",
    "chunkify([2, 3, 4, 5, 6, 7], 7)"
   ]
  },
  {
   "cell_type": "code",
   "execution_count": 33,
   "id": "82b89354",
   "metadata": {},
   "outputs": [
    {
     "name": "stdout",
     "output_type": "stream",
     "text": [
      "[4.99]\n",
      "[1.99, 5.99, 0.75]\n",
      "[5.99, 0.2, 8.5, 1.99]\n"
     ]
    }
   ],
   "source": [
    "\"\"\"5. You are given a list of strings consisting of grocery items, with prices in\n",
    "parentheses. Return a list of prices in float format.\"\"\"\n",
    "\n",
    "import re\n",
    "def get_prices(l):\n",
    "    l1=[]\n",
    "    for i in l:\n",
    "        l1.append(float(re.findall(\"\\$([0-9.]+)\",i)[0]))\n",
    "    print(l1)\n",
    "    \n",
    "get_prices([\"salad ($4.99)\"])\n",
    "get_prices([\"artichokes ($1.99)\",\"rotiserrie chicken ($5.99)\",\"gum ($0.75)\"])\n",
    "get_prices([\"ice cream ($5.99)\",\"banana ($0.20)\",\"sandwich ($8.50)\",\"soup ($1.99)\"])"
   ]
  },
  {
   "cell_type": "code",
   "execution_count": null,
   "id": "a16de1cc",
   "metadata": {},
   "outputs": [],
   "source": []
  }
 ],
 "metadata": {
  "kernelspec": {
   "display_name": "Python 3 (ipykernel)",
   "language": "python",
   "name": "python3"
  },
  "language_info": {
   "codemirror_mode": {
    "name": "ipython",
    "version": 3
   },
   "file_extension": ".py",
   "mimetype": "text/x-python",
   "name": "python",
   "nbconvert_exporter": "python",
   "pygments_lexer": "ipython3",
   "version": "3.9.7"
  }
 },
 "nbformat": 4,
 "nbformat_minor": 5
}

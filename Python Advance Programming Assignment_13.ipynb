{
 "cells": [
  {
   "cell_type": "code",
   "execution_count": 12,
   "id": "b7ddf740",
   "metadata": {},
   "outputs": [
    {
     "name": "stdout",
     "output_type": "stream",
     "text": [
      "[]\n",
      "['w']\n",
      "['b', 'g', 'w']\n"
     ]
    }
   ],
   "source": [
    "\"\"\"1. Create a function that takes a list and string. The function should remove the letters in \n",
    "the string from the list, and return the list.\"\"\"\n",
    "\n",
    "def remove_letters (l,w):\n",
    "    n=[]\n",
    "    for i in w:\n",
    "        n.append(i)\n",
    "    for item in n:\n",
    "        if item in l:\n",
    "            l.remove(item)\n",
    "    return l\n",
    "\n",
    "print(remove_letters([\"d\", \"b\", \"t\", \"e\", \"a\", \"i\"], \"edabit\"))\n",
    "print(remove_letters([\"s\", \"t\", \"r\", \"i\", \"n\", \"g\", \"w\"], \"string\"))\n",
    "print(remove_letters([\"b\", \"b\", \"l\", \"l\", \"g\", \"n\", \"o\", \"a\", \"w\"], \"balloon\"))"
   ]
  },
  {
   "cell_type": "code",
   "execution_count": 1,
   "id": "2148ff14",
   "metadata": {},
   "outputs": [
    {
     "name": "stdout",
     "output_type": "stream",
     "text": [
      "5\n",
      "39\n",
      "12\n"
     ]
    }
   ],
   "source": [
    "\"\"\"2. A block sequence in three dimensions. We can write a formula for this one:\n",
    "Create a function that takes a number (step) as an argument and returns the\n",
    "amount of blocks in that step.\"\"\"\n",
    "\n",
    "def blocks(n):\n",
    "    b=0\n",
    "    for i in range(1,n+1):\n",
    "        if i==1:\n",
    "            b=5\n",
    "        else:\n",
    "            b+=3\n",
    "            b+=(i+2)\n",
    "    print(b)\n",
    "\n",
    "blocks(1)\n",
    "blocks(5)\n",
    "blocks(2)"
   ]
  },
  {
   "cell_type": "code",
   "execution_count": 3,
   "id": "2e0db81f",
   "metadata": {},
   "outputs": [
    {
     "name": "stdout",
     "output_type": "stream",
     "text": [
      "0\n",
      "4\n",
      "20\n"
     ]
    }
   ],
   "source": [
    "\"\"\"3. Create a function that subtracts one positive integer from another, without\n",
    "using any arithmetic operators such as -, %, /, +, etc.\"\"\"\n",
    "\n",
    "def subtract(y, x):\n",
    "    while (y != 0):\n",
    "        borrow = (~x) & y\n",
    "        x = x ^ y\n",
    "        y = borrow << 1\n",
    "    return x\n",
    "\n",
    "print(subtract(0, 0))\n",
    "print(subtract(5, 9))\n",
    "print(subtract(10, 30))"
   ]
  },
  {
   "cell_type": "code",
   "execution_count": 3,
   "id": "e19fc4fb",
   "metadata": {},
   "outputs": [
    {
     "name": "stdout",
     "output_type": "stream",
     "text": [
      "70\n",
      "170\n",
      "2200\n"
     ]
    }
   ],
   "source": [
    "\"\"\"4. Create a function that takes a string containing money in dollars and\n",
    "pounds sterling (seperated by comma) and returns the sum of dollar bills only,\n",
    "as an integer.\n",
    "For the input string:\n",
    "- Each amount is prefixed by the currency symbol: $ for dollars and £ for\n",
    "pounds.\n",
    "- Thousands are represented by the suffix k.\n",
    "i.e. $4k = $4,000 and £40k = £40,000\"\"\"\n",
    "\n",
    "import re\n",
    "def add_bill(s1):\n",
    "    s=re.findall(\"[d]([0-9k]+)|[d]([0-9]+)\",s1)\n",
    "    v=0\n",
    "    for i in range(len(s)):\n",
    "        if \"k\" in s[i][0]:\n",
    "            nu=s[i][0].replace(\"k\",\"000\")\n",
    "            v+=int(nu)\n",
    "        else:\n",
    "            v+=int(s[i][0])\n",
    "    print(v)\n",
    "\n",
    "add_bill(\"d20,p40,p60,d50\")\n",
    "add_bill(\"p30,d20,p60,d150,p360\")\n",
    "add_bill(\"p30,d2k,p60,d200,p360\")"
   ]
  },
  {
   "cell_type": "code",
   "execution_count": 31,
   "id": "36a14f76",
   "metadata": {},
   "outputs": [
    {
     "name": "stdout",
     "output_type": "stream",
     "text": [
      "[[1], [2], [3], [4]]\n",
      "[5, 6, 9]\n",
      "[]\n"
     ]
    }
   ],
   "source": [
    "\"\"\"5. Create a function that flips a horizontal list into a vertical list, and a vertical\n",
    "list into a horizontal list.\n",
    "In other words, take an 1 x n list (1 row + n columns) and flip it into a n x 1 list\n",
    "(n rows and 1 column), and vice versa.\"\"\"\n",
    "\n",
    "def flip_list(l):\n",
    "    l1=[]\n",
    "    for i in l:\n",
    "        if type(i)==int:\n",
    "            l1.append([i])\n",
    "        elif type(i)==list:\n",
    "            l1.append(i[0])\n",
    "    print(l1)\n",
    "    \n",
    "flip_list([1, 2, 3, 4])\n",
    "flip_list([[5], [6], [9]])\n",
    "flip_list([])"
   ]
  },
  {
   "cell_type": "code",
   "execution_count": null,
   "id": "de6044ad",
   "metadata": {},
   "outputs": [],
   "source": []
  }
 ],
 "metadata": {
  "kernelspec": {
   "display_name": "Python 3 (ipykernel)",
   "language": "python",
   "name": "python3"
  },
  "language_info": {
   "codemirror_mode": {
    "name": "ipython",
    "version": 3
   },
   "file_extension": ".py",
   "mimetype": "text/x-python",
   "name": "python",
   "nbconvert_exporter": "python",
   "pygments_lexer": "ipython3",
   "version": "3.9.7"
  }
 },
 "nbformat": 4,
 "nbformat_minor": 5
}

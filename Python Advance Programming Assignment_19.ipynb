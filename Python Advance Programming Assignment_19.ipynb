{
 "cells": [
  {
   "cell_type": "code",
   "execution_count": 76,
   "id": "9c6d87d8",
   "metadata": {},
   "outputs": [
    {
     "name": "stdout",
     "output_type": "stream",
     "text": [
      "[[7, 6], [6, 7]]\n",
      "[['A', 'B', 'A'], ['B', 'A', 'B'], ['A', 'B', 'A']]\n",
      "[['c', 'd', 'c', 'd'], ['d', 'c', 'd', 'c'], ['c', 'd', 'c', 'd'], ['d', 'c', 'd', 'c']]\n",
      "Invalid\n"
     ]
    }
   ],
   "source": [
    "\"\"\"1. Create a checker board generator, which takes as inputs n and 2 elements\n",
    "to generate an n x n checkerboard with those two elements as alternating\n",
    "squares.\"\"\"\n",
    "\n",
    "def checker_board(n,s1,s2):\n",
    "    l=[s1,s2]\n",
    "    l1=[]\n",
    "    if s1!=s2:\n",
    "        for i in range(n):\n",
    "            l1.append([])\n",
    "            for j in range(2,n+2):\n",
    "                l1[i].append(l[(j+i)%2])\n",
    "        print(l1)\n",
    "    else:\n",
    "        print(\"Invalid\")\n",
    "        \n",
    "checker_board(2, 7, 6)\n",
    "checker_board(3, \"A\", \"B\")\n",
    "checker_board(4, \"c\", \"d\")\n",
    "checker_board(4, \"c\", \"c\")"
   ]
  },
  {
   "cell_type": "code",
   "execution_count": 54,
   "id": "14973e16",
   "metadata": {},
   "outputs": [
    {
     "name": "stdout",
     "output_type": "stream",
     "text": [
      "True\n",
      "True\n",
      "False\n",
      "False\n"
     ]
    }
   ],
   "source": [
    "\"\"\"2. A string is an almost-palindrome if, by changing only one character, you\n",
    "can make it a palindrome. Create a function that returns True if a string is an\n",
    "almost-palindrome and False otherwise.\"\"\"\n",
    "\n",
    "def almost_palindrome(s):\n",
    "    s1=s[::-1]\n",
    "    n=0\n",
    "    for i in range(len(s)):\n",
    "        if s[i]==s1[i]:\n",
    "            pass\n",
    "        else:\n",
    "            n+=1\n",
    "    if n==0 or n==2:\n",
    "        print(True)\n",
    "    else:\n",
    "        print(False)\n",
    "        \n",
    "almost_palindrome(\"abcdcbg\")\n",
    "almost_palindrome(\"abccia\")\n",
    "almost_palindrome(\"abcdaaa\")\n",
    "almost_palindrome(\"1234312\")"
   ]
  },
  {
   "cell_type": "code",
   "execution_count": 44,
   "id": "0f56b6a0",
   "metadata": {},
   "outputs": [
    {
     "name": "stdout",
     "output_type": "stream",
     "text": [
      "4\n",
      "8\n",
      "10\n"
     ]
    }
   ],
   "source": [
    "\"\"\"3. Create a function that finds how many prime numbers there are, up to the\n",
    "given integer.\"\"\"\n",
    "\n",
    "def prime_numbers(n):\n",
    "    l=[]\n",
    "    for i in range(2,n+1):\n",
    "        for j in range(2,i):\n",
    "            if i%j==0:\n",
    "                break\n",
    "        else:\n",
    "            l.append(i)\n",
    "    print(len(l))\n",
    "    \n",
    "prime_numbers(10)     \n",
    "prime_numbers(20)\n",
    "prime_numbers(30)"
   ]
  },
  {
   "cell_type": "code",
   "execution_count": 7,
   "id": "ef6bb35e",
   "metadata": {},
   "outputs": [
    {
     "name": "stdout",
     "output_type": "stream",
     "text": [
      "['Monday', 'Friday']\n",
      "['Monday', 'Monday', 'Monday']\n",
      "['Tuesday', 'Wednesday', 'Saturday']\n"
     ]
    }
   ],
   "source": [
    "\"\"\"4. If today was Monday, in two days, it would be Wednesday.\n",
    "Create a function that takes in a list of days as input and the number of days\n",
    "to increment by. Return a list of days after n number of days has passed.\"\"\"\n",
    "\n",
    "def after_n_days(l,n):\n",
    "    days=['Sunday','Monday','Tuesday','Wednesday','Thursday','Friday','Saturday','Sunday','Monday','Tuesday','Wednesday','Thursday','Friday','Saturday']\n",
    "    l1=[]\n",
    "    a=0\n",
    "    for i in l:\n",
    "        if i in days:\n",
    "            a=days.index(i)\n",
    "            l1.append(days[a+n])\n",
    "    print(l1)\n",
    "    \n",
    "after_n_days([\"Thursday\", \"Monday\"], 4)\n",
    "after_n_days([\"Sunday\", \"Sunday\", \"Sunday\"], 1)\n",
    "after_n_days([\"Monday\", \"Tuesday\", \"Friday\"], 1)"
   ]
  },
  {
   "cell_type": "code",
   "execution_count": 11,
   "id": "099e6f85",
   "metadata": {},
   "outputs": [
    {
     "name": "stdout",
     "output_type": "stream",
     "text": [
      "False\n",
      "True\n",
      "True\n"
     ]
    }
   ],
   "source": [
    "\"\"\"5. You are in the process of creating a chat application and want to add an\n",
    "anonymous name feature. This anonymous name feature will create an alias\n",
    "that consists of two capitalized words beginning with the same letter as the\n",
    "users first name.\n",
    "Create a function that determines if the list of users is mapped to a list of\n",
    "anonymous names correctly.\"\"\"\n",
    "\n",
    "def is_correct_aliases(l,l1):\n",
    "    s=\"\"\n",
    "    n=False\n",
    "    if len(l)==len(l1):\n",
    "        for i in l:\n",
    "            s+=i[0]\n",
    "            for j in l1:\n",
    "                if j.split(\" \")[0][0]==s == j.split(\" \")[1][0]:\n",
    "                    n=True\n",
    "    print(n)\n",
    "    \n",
    "is_correct_aliases([\"Beth T.\"],[\"Brandishing Mimosa\"])\n",
    "is_correct_aliases([\"Adrian M.\",\"Harriet S.\",\"Mandy T.\"], [\"Amazing Artichoke\", \"Hopeful Hedgehog\", \"Marvelous Mouse\"])\n",
    "is_correct_aliases([\"Rachel F.\",\"Pam G.\",\"Fred Z.\",\"Nancy K.\"], [\"Reassuring Rat\", \"Peaceful Panda\", \"Fantastic Frog\", \"Notable Nickel\"])"
   ]
  },
  {
   "cell_type": "code",
   "execution_count": null,
   "id": "938a90fc",
   "metadata": {},
   "outputs": [],
   "source": []
  }
 ],
 "metadata": {
  "kernelspec": {
   "display_name": "Python 3 (ipykernel)",
   "language": "python",
   "name": "python3"
  },
  "language_info": {
   "codemirror_mode": {
    "name": "ipython",
    "version": 3
   },
   "file_extension": ".py",
   "mimetype": "text/x-python",
   "name": "python",
   "nbconvert_exporter": "python",
   "pygments_lexer": "ipython3",
   "version": "3.9.7"
  }
 },
 "nbformat": 4,
 "nbformat_minor": 5
}

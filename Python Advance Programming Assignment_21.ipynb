{
 "cells": [
  {
   "cell_type": "code",
   "execution_count": 18,
   "id": "1616cc8d",
   "metadata": {},
   "outputs": [
    {
     "name": "stdout",
     "output_type": "stream",
     "text": [
      "1\n",
      "0\n",
      "1\n"
     ]
    }
   ],
   "source": [
    "\"\"\"1. Given a sentence, return the number of words which have the same first and last letter.\"\"\"\n",
    "def count_same_ends(s):\n",
    "    s=s.split(\" \")\n",
    "    x=\"! @ # $ % ^ & * .\".split(\" \")\n",
    "    count=0\n",
    "    for i in s:\n",
    "        if len(i)>1:\n",
    "            if i[-1] in x :\n",
    "                if i[0].lower()==i[-2].lower():\n",
    "                    count+=1\n",
    "            elif i[0].lower()==i[-1].lower():\n",
    "                count+=1\n",
    "    print(count)\n",
    "\n",
    "count_same_ends(\"Pop! goes the balloon\")\n",
    "count_same_ends(\"And the crowd goes wild!\")\n",
    "count_same_ends(\"No I am not in a gang.\")"
   ]
  },
  {
   "cell_type": "code",
   "execution_count": 43,
   "id": "80a8caf7",
   "metadata": {},
   "outputs": [
    {
     "name": "stdout",
     "output_type": "stream",
     "text": [
      "vool dliow!\n"
     ]
    }
   ],
   "source": [
    "\"\"\"2. The Atbash cipher is an encryption method in which each letter of a word is replaced with its \"mirror\" letter \n",
    "in the alphabet: A <=> Z; B <=> Y; C <=> X; etc.\n",
    "Create a function that takes a string and applies the Atbash cipher to it.\"\"\"\n",
    "\n",
    "s=\"Hello world!\"#\"Christmas is the 25th of December\"#\"apple\"\n",
    "alpha = 'abcdefghijklmnopqrstuvwxyz123456789!.,@#$%^&* '\n",
    "r_alpha = 'zyxwvutsrqponmlkjihgfedcba123456789!.,@#$%^&* '\n",
    "x=\"\"\n",
    "for i in range(len(s)):\n",
    "    if s[i] in alpha:\n",
    "        x+=r_alpha[alpha.index(s[i])]\n",
    "print(x)"
   ]
  },
  {
   "cell_type": "code",
   "execution_count": 5,
   "id": "fa601211",
   "metadata": {},
   "outputs": [
    {
     "name": "stdout",
     "output_type": "stream",
     "text": [
      "John Doe\n",
      "Major\n",
      "178\n",
      "Italian\n"
     ]
    }
   ],
   "source": [
    "\"\"\"3. Create a class Employee that will take a full name as argument, as well as a set of none, one or more keywords. \n",
    "Each instance should have a name and a lastname attributes plus one more attribute for each of the keywords, if any.\"\"\"\n",
    "\n",
    "class Employee:\n",
    "    def __init__(self,name=None,salary=None,height=None,nationality=None):\n",
    "        self.name = name\n",
    "        self.firstname = name.split(\" \")[0]\n",
    "        self.lastname = name.split(\" \")[1]\n",
    "        self.salary=salary\n",
    "        self.height=height\n",
    "        self.nationality=nationality\n",
    "        \n",
    "john = Employee(\"John Doe\")    \n",
    "mary = Employee(\"Mary Major\",salary=120000)\n",
    "richard = Employee(\"Richard Roe\", salary=110000, height=178)\n",
    "giancarlo = Employee(\"Giancarlo Rossi\", salary=115000, height=182, nationality=\"Italian\")\n",
    "\n",
    "print(john.name)\n",
    "print(mary.lastname)\n",
    "print(richard.height)\n",
    "print(giancarlo.nationality)"
   ]
  },
  {
   "cell_type": "code",
   "execution_count": 23,
   "id": "bfd7c60d",
   "metadata": {},
   "outputs": [
    {
     "name": "stdout",
     "output_type": "stream",
     "text": [
      "True\n",
      "True\n",
      "False\n",
      "False\n"
     ]
    }
   ],
   "source": [
    "\"\"\"4. Create a function that determines whether each seat can \"see\" the front-stage. A number can \"see\" the front-stage\n",
    "if it is strictly greater than the number before it. Everyone can see the front-stage in the example below:\"\"\"\n",
    "\n",
    "def can_see_stage(l):\n",
    "    l1=[]\n",
    "    n=[]\n",
    "    for i in range(len(l)):\n",
    "        for j in l[i]:\n",
    "            l1.append(j)\n",
    "        if sorted(l1)==l1:\n",
    "            n.append(True)\n",
    "        else:\n",
    "            n.append(False)\n",
    "    if len(set(n))==1 and list(set(n))[0]==True:\n",
    "        print(True)\n",
    "    else:\n",
    "        print(False)\n",
    "can_see_stage([[1, 2, 3],[4, 5, 6],[7, 8, 9]])\n",
    "can_see_stage([[0, 0, 0],[1, 1, 1],[2, 2, 2]])\n",
    "can_see_stage([[2, 0, 0],[1, 1, 1],[2, 2, 2]])\n",
    "can_see_stage([[1, 0, 0],[1, 1, 1],[2, 2, 2]])\n"
   ]
  },
  {
   "cell_type": "code",
   "execution_count": 6,
   "id": "74ab7005",
   "metadata": {},
   "outputs": [
    {
     "name": "stdout",
     "output_type": "stream",
     "text": [
      "['bacon', 'parmesan', 'ham']\n",
      "['spinach', 'olives', 'mushroom']\n",
      "1\n",
      "2\n"
     ]
    }
   ],
   "source": [
    "\"\"\"5. Create a Pizza class with the attributes order_number and ingredients (which is given as a list).Only the ingredients\n",
    "will be given as input. You should also make it so that its possible to choose a ready made pizza flavour rather than \n",
    "typing out the ingredients manually! As well as creating this Pizza class, hard-code the following pizza flavours.\n",
    "\n",
    "Name\tIngredients\n",
    "hawaiian\tham, pineapple\n",
    "meat_festival\tbeef, meatball, bacon\n",
    "garden_feast\tspinach, olives, mushroom\"\"\"\n",
    "\n",
    "class Pizza:\n",
    "    order_count = 0\n",
    "    def __init__(self,ingredients=None):\n",
    "        self.ingredients = ingredients\n",
    "        self.order_number = Pizza.order_count+1\n",
    "        Pizza.order_count = self.order_number\n",
    "    def hawaiian(self):\n",
    "        self.ingredients = ['ham', 'pineapple']\n",
    "    def meat_festival(self):\n",
    "        self.ingredients = ['beef', 'meatball', 'bacon']\n",
    "    def garden_feast(self):\n",
    "        self.ingredients = ['spinach', 'olives', 'mushroom']\n",
    "        \n",
    "p1 = Pizza([\"bacon\", \"parmesan\", \"ham\"])\n",
    "p2 = Pizza()\n",
    "p2.garden_feast()\n",
    "print(p1.ingredients)\n",
    "print(p2.ingredients)\n",
    "print(p1.order_number)\n",
    "print(p2.order_number)"
   ]
  },
  {
   "cell_type": "code",
   "execution_count": null,
   "id": "05fd6448",
   "metadata": {},
   "outputs": [],
   "source": []
  }
 ],
 "metadata": {
  "kernelspec": {
   "display_name": "Python 3 (ipykernel)",
   "language": "python",
   "name": "python3"
  },
  "language_info": {
   "codemirror_mode": {
    "name": "ipython",
    "version": 3
   },
   "file_extension": ".py",
   "mimetype": "text/x-python",
   "name": "python",
   "nbconvert_exporter": "python",
   "pygments_lexer": "ipython3",
   "version": "3.9.7"
  }
 },
 "nbformat": 4,
 "nbformat_minor": 5
}

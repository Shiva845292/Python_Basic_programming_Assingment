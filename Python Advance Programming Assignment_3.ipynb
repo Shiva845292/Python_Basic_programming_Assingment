{
 "cells": [
  {
   "cell_type": "code",
   "execution_count": 46,
   "id": "87ad93d9",
   "metadata": {},
   "outputs": [
    {
     "name": "stdout",
     "output_type": "stream",
     "text": [
      "24\n",
      "0\n",
      "1\n",
      "-1\n"
     ]
    }
   ],
   "source": [
    "\"\"\"1. Create a function to perform basic arithmetic operations that includes\n",
    "addition, subtraction, multiplication and division on a string number (e.g. &quot;12 +\n",
    "24&quot; or &quot;23 - 21&quot; or &quot;12 // 12&quot; or &quot;12 * 21&quot;).\n",
    "Here, we have 1 followed by a space, operator followed by another space\n",
    "and 2. For the challenge, we are going to have only two numbers between 1\n",
    "valid operator. The return value should be a number.\n",
    "eval() is not allowed. In case of division, whenever the second number equals \"0\" return -1.\n",
    "For example:\"15 // 0\" ➞ -1\n",
    "arithmetic_operation(12 + 12) ➞ 24 \n",
    "arithmetic_operation(12 - 12) ➞ 0 \n",
    "arithmetic_operation(12 * 12) ➞ 144\n",
    "arithmetic_operation(12 // 0) ➞ -1 \n",
    "\"\"\"\n",
    "# from math import floor, trunc\n",
    "\n",
    "class Solution:\n",
    "    def solve(self, s):\n",
    "        s = list(s[::-1])\n",
    "        def get_value():\n",
    "            sign = 1\n",
    "            if s and s[-1] == \"-\":\n",
    "                s.pop()\n",
    "                sign = -1\n",
    "            value = 0\n",
    "            while s and s[-1].isdigit():\n",
    "                value *= 10\n",
    "                value += int(s.pop())\n",
    "            return sign * value\n",
    "        def get_term():\n",
    "            term = get_value()\n",
    "            while s and s[-1] in \"*/\":\n",
    "                op = s.pop()\n",
    "                value = get_value()\n",
    "                if op == \"*\":\n",
    "                    term *= value\n",
    "                \n",
    "                elif (value/term)==0 :\n",
    "                    return term-1\n",
    "                else:\n",
    "                    term = int(term / value)\n",
    "            return term\n",
    "        ans = get_term()\n",
    "        while s:\n",
    "            op, term = s.pop(), get_term()\n",
    "            if op == \"+\":\n",
    "                ans += term\n",
    "            else:\n",
    "                ans -= term\n",
    "        return ans\n",
    "def arithmetic_operation(s):\n",
    "    ob = Solution()\n",
    "    return ob.solve(s)\n",
    "print(arithmetic_operation(\"12+12\"))\n",
    "print(arithmetic_operation(\"12-12\"))\n",
    "print(arithmetic_operation(\"12/12\"))\n",
    "print(arithmetic_operation(\"12//12\"))"
   ]
  },
  {
   "cell_type": "code",
   "execution_count": 21,
   "id": "7d9f6c4c",
   "metadata": {},
   "outputs": [
    {
     "name": "stdout",
     "output_type": "stream",
     "text": [
      "47.08\n",
      "3.41\n",
      "68.28\n"
     ]
    }
   ],
   "source": [
    "\"\"\"2. Write a function that takes the coordinates of three points in the form of a\n",
    "2d array and returns the perimeter of the triangle. The given points are the\n",
    "vertices of a triangle on a two-dimensional plane.\"\"\"\n",
    "import math\n",
    "def perimeter( list_ ):\n",
    "    list_.append(list_[0])\n",
    "    l1=[]\n",
    "    for i in range(1):\n",
    "        for j in range(len(list_)-1):\n",
    "            l1.append(math.sqrt((list_[j][i]-list_[j+1][i])**2+(list_[j+1][i-1]-list_[j][i-1])**2))\n",
    "    return round(sum(l1),2)\n",
    "print(perimeter( [ [15, 7], [5, 22], [11, 1] ] ))\n",
    "print(perimeter( [[0, 0], [0, 1], [1, 0] ]))\n",
    "print(perimeter( [ [-10, -10], [10, 10 ], [-10, 10] ]))"
   ]
  },
  {
   "cell_type": "code",
   "execution_count": 41,
   "id": "46857155",
   "metadata": {},
   "outputs": [
    {
     "name": "stdout",
     "output_type": "stream",
     "text": [
      "3\n",
      "4\n",
      "2\n"
     ]
    }
   ],
   "source": [
    "\"\"\"3. A city skyline can be represented as a 2-D list with 1s representing\n",
    "buildings. In the example below, the height of the tallest building is 4 (second-\n",
    "most right column).[\n",
    "[0, 0, 0, 0, 0, 0],\n",
    "[0, 0, 0, 0, 1, 0],\n",
    "[0, 0, 1, 0, 1, 0],\n",
    "[0, 1, 1, 1, 1, 0],\n",
    "[1, 1, 1, 1, 1, 1]]\n",
    "Create a function that takes a skyline (2-D list of 0&#39;s and 1&#39;s) and returns the\n",
    "height of the tallest skyscraper.\"\"\"\n",
    "\n",
    "def tallest_skyscraper(l):\n",
    "    count=0\n",
    "    for i in range(1):\n",
    "        for j in range(len(l)):\n",
    "            if l[j][1]==1:\n",
    "                count+=1\n",
    "    return count\n",
    "print(tallest_skyscraper([[0, 0, 0, 0],[0, 1, 0, 0],[0, 1, 1, 0],[1, 1, 1, 1]]))\n",
    "print(tallest_skyscraper([[0, 1, 0, 0],[0, 1, 0, 0],[0, 1, 1, 0],[1, 1, 1, 1]]))\n",
    "print(tallest_skyscraper([[0, 0, 0, 0],[0, 0, 0, 0],[1, 1, 1, 0],[1, 1, 1, 1]]))"
   ]
  },
  {
   "cell_type": "code",
   "execution_count": 22,
   "id": "a4011339",
   "metadata": {},
   "outputs": [
    {
     "name": "stdout",
     "output_type": "stream",
     "text": [
      "0\n",
      "1625\n",
      "5350\n",
      "8200\n"
     ]
    }
   ],
   "source": [
    "\"\"\"4.This quarterly scheme is calculated with a threshold target of 32 days per\n",
    "quarter, and the incentive payment for each billable day in excess of such\n",
    "threshold target is shown as follows:\n",
    "Days Bonus\n",
    "0 to 32 days Zero\n",
    "33 to 40 days SGD$325 per billable day\n",
    "41 to 48 days SGD$550 per billable day\n",
    "Greater than 48 days SGD$600 per billable day\n",
    "Please note that incentive payment is calculated progressively. As an\n",
    "example, if an employee reached total billable days of 45 in a quarter, his/her\n",
    "incentive payment is computed as follows:\n",
    "32*0 + 8*325 + 5*550 = 5350\n",
    "Write a function to read the billable days of an employee and return the bonus\n",
    "he/she has obtained in that quarter.\"\"\"\n",
    "def bonus(n):\n",
    "    if n <= 32:\n",
    "        return 0\n",
    "    elif n <= 40:\n",
    "        return (32 * 0) + (n - 32) *325\n",
    "    elif  n <= 48:\n",
    "        return (32 * 0) + (8*325) + ((n-40) * 550)\n",
    "    elif n > 48:\n",
    "        return (32 * 0) + (8*325) + (8*550) + ((n - 48) * 600)\n",
    "\n",
    "print(bonus(0))\n",
    "print(bonus(37))\n",
    "print(bonus(45))\n",
    "print(bonus(50))"
   ]
  },
  {
   "cell_type": "code",
   "execution_count": 44,
   "id": "c6b07e65",
   "metadata": {},
   "outputs": [
    {
     "name": "stdout",
     "output_type": "stream",
     "text": [
      "Enter the Number : 75\n",
      "False\n"
     ]
    }
   ],
   "source": [
    "\"\"\"5. A number is said to be Disarium if the sum of its digits raised to their respective positions is the number itself.\"\"\"\n",
    "def disarium(l):\n",
    "    s1=0\n",
    "    for i in range(len(l1)):\n",
    "        s1=s1+int(l1[i])**i\n",
    "    if str(s1-1)==l[1]:\n",
    "        return True\n",
    "    else:\n",
    "        return False\n",
    "l=[\"0\"]\n",
    "s=l.append(input(\"Enter the Number : \"))\n",
    "l1=\"\".join(l) \n",
    "re=disarium(l)\n",
    "print(re)"
   ]
  },
  {
   "cell_type": "code",
   "execution_count": null,
   "id": "055f72c6",
   "metadata": {},
   "outputs": [],
   "source": []
  },
  {
   "cell_type": "code",
   "execution_count": null,
   "id": "f88c1113",
   "metadata": {},
   "outputs": [],
   "source": []
  }
 ],
 "metadata": {
  "kernelspec": {
   "display_name": "Python 3 (ipykernel)",
   "language": "python",
   "name": "python3"
  },
  "language_info": {
   "codemirror_mode": {
    "name": "ipython",
    "version": 3
   },
   "file_extension": ".py",
   "mimetype": "text/x-python",
   "name": "python",
   "nbconvert_exporter": "python",
   "pygments_lexer": "ipython3",
   "version": "3.9.7"
  }
 },
 "nbformat": 4,
 "nbformat_minor": 5
}

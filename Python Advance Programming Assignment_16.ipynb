{
 "cells": [
  {
   "cell_type": "code",
   "execution_count": 37,
   "id": "c0de00ab",
   "metadata": {},
   "outputs": [
    {
     "name": "stdout",
     "output_type": "stream",
     "text": [
      "True\n",
      "True\n",
      "False\n",
      "False\n",
      "False\n"
     ]
    }
   ],
   "source": [
    "\"\"\"1. Rondo Form is a type of musical structure, in which there is a recurring\n",
    "theme/refrain, notated as A. Here are the rules for valid rondo forms:\n",
    "- Rondo forms always start and end with an A section.\n",
    "- In between the A sections, there should be contrasting sections notated as\n",
    "B, then C, then D, etc... No letter should be skipped.\n",
    "- There shouldn&#39;t be any repeats in the sequence (such as ABBACCA).\n",
    "Create a function which validates whether a given string is a valid Rondo\n",
    "Form.\"\"\"\n",
    "\n",
    "def valid_rondo(s):\n",
    "    S=\"0\"+s\n",
    "    n=False\n",
    "    for i in range(1,len(S)):\n",
    "        if i%2==0:\n",
    "            if S[i]!=\"A\":\n",
    "                n=True\n",
    "            else:\n",
    "                n=False\n",
    "                break\n",
    "    if n:\n",
    "        s=s.replace(\"A\",\"\")\n",
    "        for i in range(len(s)-1):\n",
    "            if len(s)==1:\n",
    "                break\n",
    "            elif ord(s[i])<ord(s[i+1]):\n",
    "                n=True\n",
    "            else:\n",
    "                n=False\n",
    "    print(n)\n",
    "\n",
    "valid_rondo(\"ABACADAEAFAGAHAIAJA\")\n",
    "valid_rondo(\"ABA\")\n",
    "valid_rondo(\"ABBACCA\")\n",
    "valid_rondo(\"ACAC\")\n",
    "valid_rondo(\"A\")"
   ]
  },
  {
   "cell_type": "code",
   "execution_count": 38,
   "id": "eadd64eb",
   "metadata": {},
   "outputs": [
    {
     "name": "stdout",
     "output_type": "stream",
     "text": [
      "I have a mat\n",
      "I have a mat\n",
      "Things are going swell.\n",
      "\"\"\n"
     ]
    }
   ],
   "source": [
    "\"\"\"2. Create a function that returns the whole of the first sentence which\n",
    "contains a specific word. Include the full stop at the end of the sentence.\"\"\"\n",
    "\n",
    "def sentence_searcher(txt, s):\n",
    "    txt = txt.split(\". \")\n",
    "    x='\"\"'\n",
    "    for i in txt: \n",
    "        if s.lower() in i.lower():\n",
    "            x=i\n",
    "    print(x)\n",
    "\n",
    "txt = \"I have a cat. I have a mat. Things are going swell.\"\n",
    "sentence_searcher(txt, \"have\")\n",
    "sentence_searcher(txt, \"MAT\")\n",
    "sentence_searcher(txt, \"things\")\n",
    "sentence_searcher(txt, \"flat\")"
   ]
  },
  {
   "cell_type": "code",
   "execution_count": 39,
   "id": "62101437",
   "metadata": {},
   "outputs": [
    {
     "name": "stdout",
     "output_type": "stream",
     "text": [
      "1 100 \n",
      "4 30 200 1000 \n",
      "10 200 4000 50000 \n"
     ]
    }
   ],
   "source": [
    "def sum_round(n):\n",
    "    n=str(n)[::-1]\n",
    "    m=len(str(n))\n",
    "    s=\"\"\n",
    "    for i in range(m):\n",
    "        if n[i]==\"0\":\n",
    "            pass\n",
    "        else:\n",
    "            d=\"0\"*i\n",
    "            s+=n[i]+d+\" \"\n",
    "    print(s)\n",
    "\n",
    "sum_round(101)\n",
    "sum_round(1234)\n",
    "sum_round(54210)"
   ]
  },
  {
   "cell_type": "code",
   "execution_count": 40,
   "id": "883d4dc3",
   "metadata": {},
   "outputs": [
    {
     "name": "stdout",
     "output_type": "stream",
     "text": [
      "[[1, 2, 3], [2, 4, 6], [3, 6, 9]]\n",
      "[[1]]\n",
      "[[1, 2, 3, 4, 5], [2, 4, 6, 8, 10], [3, 6, 9, 12, 15], [4, 8, 12, 16, 20], [5, 10, 15, 20, 25]]\n"
     ]
    }
   ],
   "source": [
    "def multiplication_table(n):\n",
    "    l=[]\n",
    "    for i in range(1,n+1):\n",
    "        m=[]\n",
    "        for j in range(1,n+1):\n",
    "            m.append(i*j)\n",
    "        l.append(m)\n",
    "    print(l)\n",
    "\n",
    "multiplication_table(3) \n",
    "multiplication_table(1)\n",
    "multiplication_table(5)"
   ]
  },
  {
   "cell_type": "code",
   "execution_count": 41,
   "id": "2cb82b60",
   "metadata": {},
   "outputs": [
    {
     "name": "stdout",
     "output_type": "stream",
     "text": [
      "True\n",
      "True\n",
      "False\n",
      "False\n"
     ]
    }
   ],
   "source": [
    "def does_rhyme(s1,s2):\n",
    "    vowels = 'aeiou'\n",
    "    l1=[s1[i].lower() for i in range(len(s1)) if s1[i].lower() in vowels]\n",
    "    l2=[s2[i].lower() for i in range(len(s2)) if s2[i].lower() in vowels]\n",
    "    if l1[-1].lower()==l2[-1].lower():\n",
    "        print(True)\n",
    "    else:\n",
    "        print(False)\n",
    "    \n",
    "does_rhyme(\"Sam I am!\", \"Green eggs and ham.\")\n",
    "does_rhyme(\"Sam I am!\", \"Green eggs and HAM.\")\n",
    "does_rhyme(\"You are off to the races\", \"a splendid day.\")\n",
    "does_rhyme(\"and frequently do?\", \"you gotta move.\")"
   ]
  },
  {
   "cell_type": "code",
   "execution_count": null,
   "id": "857d2670",
   "metadata": {},
   "outputs": [],
   "source": []
  }
 ],
 "metadata": {
  "kernelspec": {
   "display_name": "Python 3 (ipykernel)",
   "language": "python",
   "name": "python3"
  },
  "language_info": {
   "codemirror_mode": {
    "name": "ipython",
    "version": 3
   },
   "file_extension": ".py",
   "mimetype": "text/x-python",
   "name": "python",
   "nbconvert_exporter": "python",
   "pygments_lexer": "ipython3",
   "version": "3.9.7"
  }
 },
 "nbformat": 4,
 "nbformat_minor": 5
}

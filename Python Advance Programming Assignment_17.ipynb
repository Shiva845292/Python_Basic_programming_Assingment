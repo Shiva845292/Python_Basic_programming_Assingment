{
 "cells": [
  {
   "cell_type": "code",
   "execution_count": 68,
   "id": "6bf4ced2",
   "metadata": {},
   "outputs": [
    {
     "name": "stdout",
     "output_type": "stream",
     "text": [
      "[[1 2 3]\n",
      " [1 2 3]\n",
      " [1 2 3]]\n",
      "[[5 6 9]\n",
      " [5 7 1]]\n"
     ]
    }
   ],
   "source": [
    "\"\"\"1. Create a function that transposes a 2D matrix.\"\"\"\n",
    "\n",
    "import numpy\n",
    "def transpose_matrix(l):\n",
    "    print(numpy.array(l).transpose())\n",
    "    \n",
    "transpose_matrix([[1, 1, 1],[2, 2, 2],[3, 3, 3]])\n",
    "transpose_matrix([[5, 5],[6, 7],[9, 1]])"
   ]
  },
  {
   "cell_type": "code",
   "execution_count": 61,
   "id": "f0ad76e7",
   "metadata": {},
   "outputs": [
    {
     "name": "stdout",
     "output_type": "stream",
     "text": [
      "True\n",
      "True\n",
      "True\n",
      "False\n",
      "False\n",
      "False\n",
      "False\n"
     ]
    }
   ],
   "source": [
    "\"\"\"2. Create a function that determines whether a string is a valid hex code.\n",
    "A hex code must begin with a pound key # and is exactly 6 characters in\n",
    "length. Each character must be a digit from 0-9 or an alphabetic character\n",
    "from A-F. All alphabetic characters may be uppercase or lowercase.\"\"\"\n",
    "\n",
    "def is_valid_hex_code(s):\n",
    "    n= True\n",
    "    for i in s:\n",
    "        if i.lower() not in '#abcdef0123456789' or len(s) != 7:\n",
    "            n= False\n",
    "    print(n)\n",
    "    \n",
    "is_valid_hex_code(\"#CD5C5C\")\n",
    "is_valid_hex_code(\"#EAECEE\")\n",
    "is_valid_hex_code(\"#eaecee\")\n",
    "is_valid_hex_code(\"#CD5C58C\")\n",
    "is_valid_hex_code(\"#CD5C5Z\")\n",
    "is_valid_hex_code(\"#CD5C&C\")\n",
    "is_valid_hex_code(\"CD5C5C\")"
   ]
  },
  {
   "cell_type": "code",
   "execution_count": 49,
   "id": "e96ca830",
   "metadata": {},
   "outputs": [
    {
     "name": "stdout",
     "output_type": "stream",
     "text": [
      "75%\n",
      "0%\n",
      "67%\n"
     ]
    }
   ],
   "source": [
    "\"\"\"3. Given a list of math equations (given as strings), return the percentage of\n",
    "correct answers as a string. Round to the nearest whole number.\"\"\"\n",
    "\n",
    "import re,math\n",
    "def mark_maths(l):\n",
    "    l1=[]\n",
    "    for i in l:\n",
    "        s=re.findall(\"([0-9+-]+)=\",i)[0]\n",
    "        if eval(s)==int(re.findall(\"=([-0-9]+)\",i)[0]):\n",
    "            l1.append(1)\n",
    "    print(f'{math.ceil((sum(l1)/len(l))*100)}%')\n",
    "    \n",
    "mark_maths([\"2+2=4\", \"3+2=5\", \"10-3=3\", \"5+5=10\"])\n",
    "mark_maths([\"1-2=-2\"])\n",
    "mark_maths([\"2+3=5\", \"4+4=9\", \"3-1=2\"])"
   ]
  },
  {
   "cell_type": "code",
   "execution_count": 29,
   "id": "2c5a3f03",
   "metadata": {},
   "outputs": [
    {
     "name": "stdout",
     "output_type": "stream",
     "text": [
      "False\n",
      "True\n",
      "True\n",
      "False\n"
     ]
    }
   ],
   "source": [
    "\"\"\"4. There are two players, Alice and Bob, each with a 3-by-3 grid. A referee\n",
    "tells Alice to fill out one particular row in the grid (say the second row) by\n",
    "putting either a 1 or a 0 in each box, such that the sum of the numbers in that\n",
    "row is odd. The referee tells Bob to fill out one column in the grid (say the first\n",
    "column) by putting either a 1 or a 0 in each box, such that the sum of the\n",
    "numbers in that column is even.\n",
    "Alice and Bob win the game if Alice’s numbers give an odd sum, Bob’s give\n",
    "an even sum, and (most important) they’ve each written down the same\n",
    "number in the one square where their row and column intersect.\"\"\"\n",
    "\n",
    "def magic_square_game(l1,l2):\n",
    "    n=False\n",
    "    if l2[1][l1[0]-1] == l1[1][l2[0]-1]:\n",
    "        n=True\n",
    "    print(n)\n",
    "\n",
    "magic_square_game([2, \"100\"], [1, \"101\"])\n",
    "magic_square_game([2, \"001\"], [1, \"101\"]) \n",
    "magic_square_game([3, \"111\"], [2, \"011\"]) \n",
    "magic_square_game([1, \"010\"], [3, \"101\"]) "
   ]
  },
  {
   "cell_type": "code",
   "execution_count": 28,
   "id": "09286cd1",
   "metadata": {},
   "outputs": [
    {
     "name": "stdout",
     "output_type": "stream",
     "text": [
      "2h 30min 0s\n",
      "1h 52min 0s\n",
      "0h 38min 34s\n"
     ]
    }
   ],
   "source": [
    "\"\"\"5. From point A, an object is moving towards point B at constant velocity va\n",
    "(in km/hr). From point B, another object is moving towards point A at constant\n",
    "velocity vb (in km/hr). Knowing this and the distance between point A and B\n",
    "(in km), write a function that returns how much time passes until both objects\n",
    "meet.\n",
    "Format the output like this:\n",
    "2h 23min 34s\"\"\"\n",
    "\n",
    "def lets_meet(dist,va,vb):\n",
    "    time=dist/(va+vb)\n",
    "    hr =int(time)\n",
    "    mint=int((time-hr)*60)\n",
    "    sec=int((((time-hr)*60)-mint)*60)\n",
    "    print(f'{hr}h {mint}min {sec}s')\n",
    "    \n",
    "lets_meet(100, 10, 30)\n",
    "lets_meet(280, 70, 80)\n",
    "lets_meet(90, 75, 65)"
   ]
  },
  {
   "cell_type": "code",
   "execution_count": null,
   "id": "a9f041c7",
   "metadata": {},
   "outputs": [],
   "source": []
  }
 ],
 "metadata": {
  "kernelspec": {
   "display_name": "Python 3 (ipykernel)",
   "language": "python",
   "name": "python3"
  },
  "language_info": {
   "codemirror_mode": {
    "name": "ipython",
    "version": 3
   },
   "file_extension": ".py",
   "mimetype": "text/x-python",
   "name": "python",
   "nbconvert_exporter": "python",
   "pygments_lexer": "ipython3",
   "version": "3.9.7"
  }
 },
 "nbformat": 4,
 "nbformat_minor": 5
}
